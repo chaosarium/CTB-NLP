{
 "cells": [
  {
   "cell_type": "markdown",
   "source": [
    "# It isn't obvious from the start how to use BERT.\n",
    "\n",
    "Hmm here's some repo for Chinese NLP models https://github.com/lonePatient/awesome-pretrained-chinese-nlp-models\n",
    "\n",
    "Hmm let's just the pretrained one on huggingface https://huggingface.co/bert-base-chinese"
   ],
   "metadata": {}
  },
  {
   "cell_type": "code",
   "execution_count": 1,
   "source": [
    "import torch\n",
    "import transformers\n",
    "from transformers import BertForMaskedLM"
   ],
   "outputs": [],
   "metadata": {}
  },
  {
   "cell_type": "code",
   "execution_count": 3,
   "source": [
    "from transformers import AutoTokenizer, AutoModelForMaskedLM\n",
    "\n",
    "PRETRAINED_MODEL_NAME = \"bert-base-chinese\"\n",
    "\n",
    "tokenizer = AutoTokenizer.from_pretrained(PRETRAINED_MODEL_NAME)\n",
    "model = AutoModelForMaskedLM.from_pretrained(PRETRAINED_MODEL_NAME)"
   ],
   "outputs": [
    {
     "output_type": "stream",
     "name": "stderr",
     "text": [
      "Some weights of the model checkpoint at bert-base-chinese were not used when initializing BertForMaskedLM: ['cls.seq_relationship.weight', 'cls.seq_relationship.bias']\n",
      "- This IS expected if you are initializing BertForMaskedLM from the checkpoint of a model trained on another task or with another architecture (e.g. initializing a BertForSequenceClassification model from a BertForPreTraining model).\n",
      "- This IS NOT expected if you are initializing BertForMaskedLM from the checkpoint of a model that you expect to be exactly identical (initializing a BertForSequenceClassification model from a BertForSequenceClassification model).\n"
     ]
    }
   ],
   "metadata": {}
  },
  {
   "cell_type": "markdown",
   "source": [
    "# hmmm looking at some tutorial here\n",
    "\n",
    "Source: https://www.heywhale.com/mw/project/609f609f06b942001794ff44\n",
    "\n",
    "- [CLS]：在做分类任务时其最后一层的repr. 会被视为整个输入序列的repr.\n",
    "- [SEP]：有两个句子的文本会被串接成一个输入序列，并在两句之间插入这个token 以做区隔\n",
    "- [UNK]：没出现在BERT 字典里头的字会被这个token 取代\n",
    "- [PAD]：zero padding 遮罩，将长度不一的输入序列补齐方便做batch 运算\n",
    "- [MASK]：未知遮罩，仅在预训练阶段会用到"
   ],
   "metadata": {}
  },
  {
   "cell_type": "code",
   "execution_count": 1,
   "source": [
    "vocab = tokenizer.vocab\n",
    "print(\"vocab size: \", len(vocab))"
   ],
   "outputs": [
    {
     "output_type": "error",
     "ename": "NameError",
     "evalue": "name 'tokenizer' is not defined",
     "traceback": [
      "\u001b[0;31m---------------------------------------------------------------------------\u001b[0m",
      "\u001b[0;31mNameError\u001b[0m                                 Traceback (most recent call last)",
      "\u001b[0;32m<ipython-input-1-e04f4558f936>\u001b[0m in \u001b[0;36m<module>\u001b[0;34m\u001b[0m\n\u001b[0;32m----> 1\u001b[0;31m \u001b[0mvocab\u001b[0m \u001b[0;34m=\u001b[0m \u001b[0mtokenizer\u001b[0m\u001b[0;34m.\u001b[0m\u001b[0mvocab\u001b[0m\u001b[0;34m\u001b[0m\u001b[0;34m\u001b[0m\u001b[0m\n\u001b[0m\u001b[1;32m      2\u001b[0m \u001b[0mprint\u001b[0m\u001b[0;34m(\u001b[0m\u001b[0;34m\"vocab size: \"\u001b[0m\u001b[0;34m,\u001b[0m \u001b[0mlen\u001b[0m\u001b[0;34m(\u001b[0m\u001b[0mvocab\u001b[0m\u001b[0;34m)\u001b[0m\u001b[0;34m)\u001b[0m\u001b[0;34m\u001b[0m\u001b[0;34m\u001b[0m\u001b[0m\n",
      "\u001b[0;31mNameError\u001b[0m: name 'tokenizer' is not defined"
     ]
    }
   ],
   "metadata": {}
  },
  {
   "cell_type": "code",
   "execution_count": 17,
   "source": [
    "text = \"[CLS] 等到潮水 [MASK] 了，就知道谁沒穿裤子。\"\n",
    "tokens = tokenizer.tokenize(text)\n",
    "ids = tokenizer.convert_tokens_to_ids(tokens)\n",
    "\n",
    "print(text)\n",
    "print(tokens[:10], '...')\n",
    "print(ids[:10], '...')\n"
   ],
   "outputs": [
    {
     "output_type": "stream",
     "name": "stdout",
     "text": [
      "[CLS] 等到潮水 [MASK] 了，就知道谁沒穿裤子。\n",
      "['[CLS]', '等', '到', '潮', '水', '[MASK]', '了', '，', '就', '知'] ...\n",
      "[101, 5023, 1168, 4060, 3717, 103, 749, 8024, 2218, 4761] ...\n"
     ]
    }
   ],
   "metadata": {}
  },
  {
   "cell_type": "code",
   "execution_count": 20,
   "source": [
    "ids"
   ],
   "outputs": [
    {
     "output_type": "execute_result",
     "data": {
      "text/plain": [
       "[101,\n",
       " 5023,\n",
       " 1168,\n",
       " 4060,\n",
       " 3717,\n",
       " 103,\n",
       " 749,\n",
       " 8024,\n",
       " 2218,\n",
       " 4761,\n",
       " 6887,\n",
       " 6443,\n",
       " 3760,\n",
       " 4959,\n",
       " 6175,\n",
       " 2094,\n",
       " 511]"
      ]
     },
     "metadata": {},
     "execution_count": 20
    }
   ],
   "metadata": {}
  },
  {
   "cell_type": "code",
   "execution_count": 23,
   "source": [
    "from transformers import BertForMaskedLM\n",
    "# 除了 tokens 以外我們還需要辨別句子的 segment ids\n",
    "tokens_tensor = torch.tensor([ids])  # (1, seq_len)\n",
    "segments_tensors = torch.zeros_like(tokens_tensor)  # (1, seq_len)\n",
    "maskedLM_model = BertForMaskedLM.from_pretrained(PRETRAINED_MODEL_NAME)\n",
    "\n",
    "# 使用 masked LM 估計 [MASK] 位置所代表的實際 token \n",
    "maskedLM_model.eval()\n",
    "with torch.no_grad():\n",
    "    outputs = maskedLM_model(tokens_tensor, segments_tensors)\n",
    "    predictions = outputs[0]\n",
    "    # (1, seq_len, num_hidden_units)\n",
    "del maskedLM_model\n",
    "\n",
    "# 將 [MASK] 位置的機率分佈取 top k 最有可能的 tokens 出來\n",
    "masked_index = 5\n",
    "k = 3\n",
    "probs, indices = torch.topk(torch.softmax(predictions[0, masked_index], -1), k)\n",
    "predicted_tokens = tokenizer.convert_ids_to_tokens(indices.tolist())\n",
    "\n",
    "# 顯示 top k 可能的字。一般我們就是取 top 1 当做预测值\n",
    "print(\"輸入 tokens ：\", tokens[:10], '...')\n",
    "print('-' * 50)\n",
    "for i, (t, p) in enumerate(zip(predicted_tokens, probs), 1):\n",
    "    tokens[masked_index] = t\n",
    "    print(\"Top {} ({:2}%)：{}\".format(i, int(p.item() * 100), tokens[:10]), '...')\n"
   ],
   "outputs": [
    {
     "output_type": "stream",
     "name": "stderr",
     "text": [
      "Some weights of the model checkpoint at bert-base-chinese were not used when initializing BertForMaskedLM: ['cls.seq_relationship.weight', 'cls.seq_relationship.bias']\n",
      "- This IS expected if you are initializing BertForMaskedLM from the checkpoint of a model trained on another task or with another architecture (e.g. initializing a BertForSequenceClassification model from a BertForPreTraining model).\n",
      "- This IS NOT expected if you are initializing BertForMaskedLM from the checkpoint of a model that you expect to be exactly identical (initializing a BertForSequenceClassification model from a BertForSequenceClassification model).\n"
     ]
    },
    {
     "output_type": "stream",
     "name": "stdout",
     "text": [
      "輸入 tokens ： ['[CLS]', '等', '到', '潮', '水', '[MASK]', '了', '，', '就', '知'] ...\n",
      "--------------------------------------------------\n",
      "Top 1 (65%)：['[CLS]', '等', '到', '潮', '水', '来', '了', '，', '就', '知'] ...\n",
      "Top 2 ( 4%)：['[CLS]', '等', '到', '潮', '水', '过', '了', '，', '就', '知'] ...\n",
      "Top 3 ( 4%)：['[CLS]', '等', '到', '潮', '水', '干', '了', '，', '就', '知'] ...\n"
     ]
    }
   ],
   "metadata": {}
  },
  {
   "cell_type": "code",
   "execution_count": 25,
   "source": [
    "from transformers import AutoTokenizer, AutoModel\n",
    "from bertviz import model_view\n",
    "\n",
    "tokenizer = AutoTokenizer.from_pretrained(\"bert-base-chinese\")\n",
    "model = AutoModelForMaskedLM.from_pretrained(\"bert-base-chinese\", output_attentions=True)\n",
    "inputs = tokenizer.encode(\"[CLS] 等到潮水 [MASK] 了，就知道谁沒穿裤子。\", return_tensors='pt')\n",
    "outputs = model(inputs)\n",
    "attention = outputs[-1]\n",
    "tokens = tokenizer.convert_ids_to_tokens(inputs[0]) \n",
    "model_view(attention, tokens)"
   ],
   "outputs": [
    {
     "output_type": "error",
     "ename": "ModuleNotFoundError",
     "evalue": "No module named 'bertviz'",
     "traceback": [
      "\u001b[0;31m---------------------------------------------------------------------------\u001b[0m",
      "\u001b[0;31mModuleNotFoundError\u001b[0m                       Traceback (most recent call last)",
      "\u001b[0;32m/var/folders/tt/63g2nkx15fl855gr711x66540000gn/T/ipykernel_90812/1572180877.py\u001b[0m in \u001b[0;36m<module>\u001b[0;34m\u001b[0m\n\u001b[1;32m      1\u001b[0m \u001b[0;32mfrom\u001b[0m \u001b[0mtransformers\u001b[0m \u001b[0;32mimport\u001b[0m \u001b[0mAutoTokenizer\u001b[0m\u001b[0;34m,\u001b[0m \u001b[0mAutoModel\u001b[0m\u001b[0;34m\u001b[0m\u001b[0;34m\u001b[0m\u001b[0m\n\u001b[0;32m----> 2\u001b[0;31m \u001b[0;32mfrom\u001b[0m \u001b[0mbertviz\u001b[0m \u001b[0;32mimport\u001b[0m \u001b[0mmodel_view\u001b[0m\u001b[0;34m\u001b[0m\u001b[0;34m\u001b[0m\u001b[0m\n\u001b[0m\u001b[1;32m      3\u001b[0m \u001b[0;34m\u001b[0m\u001b[0m\n\u001b[1;32m      4\u001b[0m \u001b[0mtokenizer\u001b[0m \u001b[0;34m=\u001b[0m \u001b[0mAutoTokenizer\u001b[0m\u001b[0;34m.\u001b[0m\u001b[0mfrom_pretrained\u001b[0m\u001b[0;34m(\u001b[0m\u001b[0;34m\"bert-base-chinese\"\u001b[0m\u001b[0;34m)\u001b[0m\u001b[0;34m\u001b[0m\u001b[0;34m\u001b[0m\u001b[0m\n\u001b[1;32m      5\u001b[0m \u001b[0mmodel\u001b[0m \u001b[0;34m=\u001b[0m \u001b[0mAutoModelForMaskedLM\u001b[0m\u001b[0;34m.\u001b[0m\u001b[0mfrom_pretrained\u001b[0m\u001b[0;34m(\u001b[0m\u001b[0;34m\"bert-base-chinese\"\u001b[0m\u001b[0;34m,\u001b[0m \u001b[0moutput_attentions\u001b[0m\u001b[0;34m=\u001b[0m\u001b[0;32mTrue\u001b[0m\u001b[0;34m)\u001b[0m\u001b[0;34m\u001b[0m\u001b[0;34m\u001b[0m\u001b[0m\n",
      "\u001b[0;31mModuleNotFoundError\u001b[0m: No module named 'bertviz'"
     ]
    }
   ],
   "metadata": {}
  },
  {
   "cell_type": "code",
   "execution_count": 7,
   "source": [
    "model"
   ],
   "outputs": [
    {
     "output_type": "execute_result",
     "data": {
      "text/plain": [
       "BertForMaskedLM(\n",
       "  (bert): BertModel(\n",
       "    (embeddings): BertEmbeddings(\n",
       "      (word_embeddings): Embedding(21128, 768, padding_idx=0)\n",
       "      (position_embeddings): Embedding(512, 768)\n",
       "      (token_type_embeddings): Embedding(2, 768)\n",
       "      (LayerNorm): LayerNorm((768,), eps=1e-12, elementwise_affine=True)\n",
       "      (dropout): Dropout(p=0.1, inplace=False)\n",
       "    )\n",
       "    (encoder): BertEncoder(\n",
       "      (layer): ModuleList(\n",
       "        (0): BertLayer(\n",
       "          (attention): BertAttention(\n",
       "            (self): BertSelfAttention(\n",
       "              (query): Linear(in_features=768, out_features=768, bias=True)\n",
       "              (key): Linear(in_features=768, out_features=768, bias=True)\n",
       "              (value): Linear(in_features=768, out_features=768, bias=True)\n",
       "              (dropout): Dropout(p=0.1, inplace=False)\n",
       "            )\n",
       "            (output): BertSelfOutput(\n",
       "              (dense): Linear(in_features=768, out_features=768, bias=True)\n",
       "              (LayerNorm): LayerNorm((768,), eps=1e-12, elementwise_affine=True)\n",
       "              (dropout): Dropout(p=0.1, inplace=False)\n",
       "            )\n",
       "          )\n",
       "          (intermediate): BertIntermediate(\n",
       "            (dense): Linear(in_features=768, out_features=3072, bias=True)\n",
       "          )\n",
       "          (output): BertOutput(\n",
       "            (dense): Linear(in_features=3072, out_features=768, bias=True)\n",
       "            (LayerNorm): LayerNorm((768,), eps=1e-12, elementwise_affine=True)\n",
       "            (dropout): Dropout(p=0.1, inplace=False)\n",
       "          )\n",
       "        )\n",
       "        (1): BertLayer(\n",
       "          (attention): BertAttention(\n",
       "            (self): BertSelfAttention(\n",
       "              (query): Linear(in_features=768, out_features=768, bias=True)\n",
       "              (key): Linear(in_features=768, out_features=768, bias=True)\n",
       "              (value): Linear(in_features=768, out_features=768, bias=True)\n",
       "              (dropout): Dropout(p=0.1, inplace=False)\n",
       "            )\n",
       "            (output): BertSelfOutput(\n",
       "              (dense): Linear(in_features=768, out_features=768, bias=True)\n",
       "              (LayerNorm): LayerNorm((768,), eps=1e-12, elementwise_affine=True)\n",
       "              (dropout): Dropout(p=0.1, inplace=False)\n",
       "            )\n",
       "          )\n",
       "          (intermediate): BertIntermediate(\n",
       "            (dense): Linear(in_features=768, out_features=3072, bias=True)\n",
       "          )\n",
       "          (output): BertOutput(\n",
       "            (dense): Linear(in_features=3072, out_features=768, bias=True)\n",
       "            (LayerNorm): LayerNorm((768,), eps=1e-12, elementwise_affine=True)\n",
       "            (dropout): Dropout(p=0.1, inplace=False)\n",
       "          )\n",
       "        )\n",
       "        (2): BertLayer(\n",
       "          (attention): BertAttention(\n",
       "            (self): BertSelfAttention(\n",
       "              (query): Linear(in_features=768, out_features=768, bias=True)\n",
       "              (key): Linear(in_features=768, out_features=768, bias=True)\n",
       "              (value): Linear(in_features=768, out_features=768, bias=True)\n",
       "              (dropout): Dropout(p=0.1, inplace=False)\n",
       "            )\n",
       "            (output): BertSelfOutput(\n",
       "              (dense): Linear(in_features=768, out_features=768, bias=True)\n",
       "              (LayerNorm): LayerNorm((768,), eps=1e-12, elementwise_affine=True)\n",
       "              (dropout): Dropout(p=0.1, inplace=False)\n",
       "            )\n",
       "          )\n",
       "          (intermediate): BertIntermediate(\n",
       "            (dense): Linear(in_features=768, out_features=3072, bias=True)\n",
       "          )\n",
       "          (output): BertOutput(\n",
       "            (dense): Linear(in_features=3072, out_features=768, bias=True)\n",
       "            (LayerNorm): LayerNorm((768,), eps=1e-12, elementwise_affine=True)\n",
       "            (dropout): Dropout(p=0.1, inplace=False)\n",
       "          )\n",
       "        )\n",
       "        (3): BertLayer(\n",
       "          (attention): BertAttention(\n",
       "            (self): BertSelfAttention(\n",
       "              (query): Linear(in_features=768, out_features=768, bias=True)\n",
       "              (key): Linear(in_features=768, out_features=768, bias=True)\n",
       "              (value): Linear(in_features=768, out_features=768, bias=True)\n",
       "              (dropout): Dropout(p=0.1, inplace=False)\n",
       "            )\n",
       "            (output): BertSelfOutput(\n",
       "              (dense): Linear(in_features=768, out_features=768, bias=True)\n",
       "              (LayerNorm): LayerNorm((768,), eps=1e-12, elementwise_affine=True)\n",
       "              (dropout): Dropout(p=0.1, inplace=False)\n",
       "            )\n",
       "          )\n",
       "          (intermediate): BertIntermediate(\n",
       "            (dense): Linear(in_features=768, out_features=3072, bias=True)\n",
       "          )\n",
       "          (output): BertOutput(\n",
       "            (dense): Linear(in_features=3072, out_features=768, bias=True)\n",
       "            (LayerNorm): LayerNorm((768,), eps=1e-12, elementwise_affine=True)\n",
       "            (dropout): Dropout(p=0.1, inplace=False)\n",
       "          )\n",
       "        )\n",
       "        (4): BertLayer(\n",
       "          (attention): BertAttention(\n",
       "            (self): BertSelfAttention(\n",
       "              (query): Linear(in_features=768, out_features=768, bias=True)\n",
       "              (key): Linear(in_features=768, out_features=768, bias=True)\n",
       "              (value): Linear(in_features=768, out_features=768, bias=True)\n",
       "              (dropout): Dropout(p=0.1, inplace=False)\n",
       "            )\n",
       "            (output): BertSelfOutput(\n",
       "              (dense): Linear(in_features=768, out_features=768, bias=True)\n",
       "              (LayerNorm): LayerNorm((768,), eps=1e-12, elementwise_affine=True)\n",
       "              (dropout): Dropout(p=0.1, inplace=False)\n",
       "            )\n",
       "          )\n",
       "          (intermediate): BertIntermediate(\n",
       "            (dense): Linear(in_features=768, out_features=3072, bias=True)\n",
       "          )\n",
       "          (output): BertOutput(\n",
       "            (dense): Linear(in_features=3072, out_features=768, bias=True)\n",
       "            (LayerNorm): LayerNorm((768,), eps=1e-12, elementwise_affine=True)\n",
       "            (dropout): Dropout(p=0.1, inplace=False)\n",
       "          )\n",
       "        )\n",
       "        (5): BertLayer(\n",
       "          (attention): BertAttention(\n",
       "            (self): BertSelfAttention(\n",
       "              (query): Linear(in_features=768, out_features=768, bias=True)\n",
       "              (key): Linear(in_features=768, out_features=768, bias=True)\n",
       "              (value): Linear(in_features=768, out_features=768, bias=True)\n",
       "              (dropout): Dropout(p=0.1, inplace=False)\n",
       "            )\n",
       "            (output): BertSelfOutput(\n",
       "              (dense): Linear(in_features=768, out_features=768, bias=True)\n",
       "              (LayerNorm): LayerNorm((768,), eps=1e-12, elementwise_affine=True)\n",
       "              (dropout): Dropout(p=0.1, inplace=False)\n",
       "            )\n",
       "          )\n",
       "          (intermediate): BertIntermediate(\n",
       "            (dense): Linear(in_features=768, out_features=3072, bias=True)\n",
       "          )\n",
       "          (output): BertOutput(\n",
       "            (dense): Linear(in_features=3072, out_features=768, bias=True)\n",
       "            (LayerNorm): LayerNorm((768,), eps=1e-12, elementwise_affine=True)\n",
       "            (dropout): Dropout(p=0.1, inplace=False)\n",
       "          )\n",
       "        )\n",
       "        (6): BertLayer(\n",
       "          (attention): BertAttention(\n",
       "            (self): BertSelfAttention(\n",
       "              (query): Linear(in_features=768, out_features=768, bias=True)\n",
       "              (key): Linear(in_features=768, out_features=768, bias=True)\n",
       "              (value): Linear(in_features=768, out_features=768, bias=True)\n",
       "              (dropout): Dropout(p=0.1, inplace=False)\n",
       "            )\n",
       "            (output): BertSelfOutput(\n",
       "              (dense): Linear(in_features=768, out_features=768, bias=True)\n",
       "              (LayerNorm): LayerNorm((768,), eps=1e-12, elementwise_affine=True)\n",
       "              (dropout): Dropout(p=0.1, inplace=False)\n",
       "            )\n",
       "          )\n",
       "          (intermediate): BertIntermediate(\n",
       "            (dense): Linear(in_features=768, out_features=3072, bias=True)\n",
       "          )\n",
       "          (output): BertOutput(\n",
       "            (dense): Linear(in_features=3072, out_features=768, bias=True)\n",
       "            (LayerNorm): LayerNorm((768,), eps=1e-12, elementwise_affine=True)\n",
       "            (dropout): Dropout(p=0.1, inplace=False)\n",
       "          )\n",
       "        )\n",
       "        (7): BertLayer(\n",
       "          (attention): BertAttention(\n",
       "            (self): BertSelfAttention(\n",
       "              (query): Linear(in_features=768, out_features=768, bias=True)\n",
       "              (key): Linear(in_features=768, out_features=768, bias=True)\n",
       "              (value): Linear(in_features=768, out_features=768, bias=True)\n",
       "              (dropout): Dropout(p=0.1, inplace=False)\n",
       "            )\n",
       "            (output): BertSelfOutput(\n",
       "              (dense): Linear(in_features=768, out_features=768, bias=True)\n",
       "              (LayerNorm): LayerNorm((768,), eps=1e-12, elementwise_affine=True)\n",
       "              (dropout): Dropout(p=0.1, inplace=False)\n",
       "            )\n",
       "          )\n",
       "          (intermediate): BertIntermediate(\n",
       "            (dense): Linear(in_features=768, out_features=3072, bias=True)\n",
       "          )\n",
       "          (output): BertOutput(\n",
       "            (dense): Linear(in_features=3072, out_features=768, bias=True)\n",
       "            (LayerNorm): LayerNorm((768,), eps=1e-12, elementwise_affine=True)\n",
       "            (dropout): Dropout(p=0.1, inplace=False)\n",
       "          )\n",
       "        )\n",
       "        (8): BertLayer(\n",
       "          (attention): BertAttention(\n",
       "            (self): BertSelfAttention(\n",
       "              (query): Linear(in_features=768, out_features=768, bias=True)\n",
       "              (key): Linear(in_features=768, out_features=768, bias=True)\n",
       "              (value): Linear(in_features=768, out_features=768, bias=True)\n",
       "              (dropout): Dropout(p=0.1, inplace=False)\n",
       "            )\n",
       "            (output): BertSelfOutput(\n",
       "              (dense): Linear(in_features=768, out_features=768, bias=True)\n",
       "              (LayerNorm): LayerNorm((768,), eps=1e-12, elementwise_affine=True)\n",
       "              (dropout): Dropout(p=0.1, inplace=False)\n",
       "            )\n",
       "          )\n",
       "          (intermediate): BertIntermediate(\n",
       "            (dense): Linear(in_features=768, out_features=3072, bias=True)\n",
       "          )\n",
       "          (output): BertOutput(\n",
       "            (dense): Linear(in_features=3072, out_features=768, bias=True)\n",
       "            (LayerNorm): LayerNorm((768,), eps=1e-12, elementwise_affine=True)\n",
       "            (dropout): Dropout(p=0.1, inplace=False)\n",
       "          )\n",
       "        )\n",
       "        (9): BertLayer(\n",
       "          (attention): BertAttention(\n",
       "            (self): BertSelfAttention(\n",
       "              (query): Linear(in_features=768, out_features=768, bias=True)\n",
       "              (key): Linear(in_features=768, out_features=768, bias=True)\n",
       "              (value): Linear(in_features=768, out_features=768, bias=True)\n",
       "              (dropout): Dropout(p=0.1, inplace=False)\n",
       "            )\n",
       "            (output): BertSelfOutput(\n",
       "              (dense): Linear(in_features=768, out_features=768, bias=True)\n",
       "              (LayerNorm): LayerNorm((768,), eps=1e-12, elementwise_affine=True)\n",
       "              (dropout): Dropout(p=0.1, inplace=False)\n",
       "            )\n",
       "          )\n",
       "          (intermediate): BertIntermediate(\n",
       "            (dense): Linear(in_features=768, out_features=3072, bias=True)\n",
       "          )\n",
       "          (output): BertOutput(\n",
       "            (dense): Linear(in_features=3072, out_features=768, bias=True)\n",
       "            (LayerNorm): LayerNorm((768,), eps=1e-12, elementwise_affine=True)\n",
       "            (dropout): Dropout(p=0.1, inplace=False)\n",
       "          )\n",
       "        )\n",
       "        (10): BertLayer(\n",
       "          (attention): BertAttention(\n",
       "            (self): BertSelfAttention(\n",
       "              (query): Linear(in_features=768, out_features=768, bias=True)\n",
       "              (key): Linear(in_features=768, out_features=768, bias=True)\n",
       "              (value): Linear(in_features=768, out_features=768, bias=True)\n",
       "              (dropout): Dropout(p=0.1, inplace=False)\n",
       "            )\n",
       "            (output): BertSelfOutput(\n",
       "              (dense): Linear(in_features=768, out_features=768, bias=True)\n",
       "              (LayerNorm): LayerNorm((768,), eps=1e-12, elementwise_affine=True)\n",
       "              (dropout): Dropout(p=0.1, inplace=False)\n",
       "            )\n",
       "          )\n",
       "          (intermediate): BertIntermediate(\n",
       "            (dense): Linear(in_features=768, out_features=3072, bias=True)\n",
       "          )\n",
       "          (output): BertOutput(\n",
       "            (dense): Linear(in_features=3072, out_features=768, bias=True)\n",
       "            (LayerNorm): LayerNorm((768,), eps=1e-12, elementwise_affine=True)\n",
       "            (dropout): Dropout(p=0.1, inplace=False)\n",
       "          )\n",
       "        )\n",
       "        (11): BertLayer(\n",
       "          (attention): BertAttention(\n",
       "            (self): BertSelfAttention(\n",
       "              (query): Linear(in_features=768, out_features=768, bias=True)\n",
       "              (key): Linear(in_features=768, out_features=768, bias=True)\n",
       "              (value): Linear(in_features=768, out_features=768, bias=True)\n",
       "              (dropout): Dropout(p=0.1, inplace=False)\n",
       "            )\n",
       "            (output): BertSelfOutput(\n",
       "              (dense): Linear(in_features=768, out_features=768, bias=True)\n",
       "              (LayerNorm): LayerNorm((768,), eps=1e-12, elementwise_affine=True)\n",
       "              (dropout): Dropout(p=0.1, inplace=False)\n",
       "            )\n",
       "          )\n",
       "          (intermediate): BertIntermediate(\n",
       "            (dense): Linear(in_features=768, out_features=3072, bias=True)\n",
       "          )\n",
       "          (output): BertOutput(\n",
       "            (dense): Linear(in_features=3072, out_features=768, bias=True)\n",
       "            (LayerNorm): LayerNorm((768,), eps=1e-12, elementwise_affine=True)\n",
       "            (dropout): Dropout(p=0.1, inplace=False)\n",
       "          )\n",
       "        )\n",
       "      )\n",
       "    )\n",
       "  )\n",
       "  (cls): BertOnlyMLMHead(\n",
       "    (predictions): BertLMPredictionHead(\n",
       "      (transform): BertPredictionHeadTransform(\n",
       "        (dense): Linear(in_features=768, out_features=768, bias=True)\n",
       "        (LayerNorm): LayerNorm((768,), eps=1e-12, elementwise_affine=True)\n",
       "      )\n",
       "      (decoder): Linear(in_features=768, out_features=21128, bias=True)\n",
       "    )\n",
       "  )\n",
       ")"
      ]
     },
     "metadata": {},
     "execution_count": 7
    }
   ],
   "metadata": {}
  },
  {
   "cell_type": "code",
   "execution_count": 8,
   "source": [
    "inputs = tokenizer(['这是什么让我试试切词。你好', '这是什么让我试试切词。你好了卡就是打开了放假啊可是你的肌肤'], return_tensors=\"pt\", padding=True)\n",
    "outputs = model(**inputs)"
   ],
   "outputs": [],
   "metadata": {}
  },
  {
   "cell_type": "code",
   "execution_count": 9,
   "source": [
    "inputs"
   ],
   "outputs": [
    {
     "output_type": "execute_result",
     "data": {
      "text/plain": [
       "{'input_ids': tensor([[ 101, 6821, 3221,  784,  720, 6375, 2769, 6407, 6407, 1147, 6404,  511,\n",
       "          872, 1962,  102,    0,    0,    0,    0,    0,    0,    0,    0,    0,\n",
       "            0,    0,    0,    0,    0,    0,    0],\n",
       "        [ 101, 6821, 3221,  784,  720, 6375, 2769, 6407, 6407, 1147, 6404,  511,\n",
       "          872, 1962,  749, 1305, 2218, 3221, 2802, 2458,  749, 3123,  969, 1557,\n",
       "         1377, 3221,  872, 4638, 5491, 5502,  102]]), 'token_type_ids': tensor([[0, 0, 0, 0, 0, 0, 0, 0, 0, 0, 0, 0, 0, 0, 0, 0, 0, 0, 0, 0, 0, 0, 0, 0,\n",
       "         0, 0, 0, 0, 0, 0, 0],\n",
       "        [0, 0, 0, 0, 0, 0, 0, 0, 0, 0, 0, 0, 0, 0, 0, 0, 0, 0, 0, 0, 0, 0, 0, 0,\n",
       "         0, 0, 0, 0, 0, 0, 0]]), 'attention_mask': tensor([[1, 1, 1, 1, 1, 1, 1, 1, 1, 1, 1, 1, 1, 1, 1, 0, 0, 0, 0, 0, 0, 0, 0, 0,\n",
       "         0, 0, 0, 0, 0, 0, 0],\n",
       "        [1, 1, 1, 1, 1, 1, 1, 1, 1, 1, 1, 1, 1, 1, 1, 1, 1, 1, 1, 1, 1, 1, 1, 1,\n",
       "         1, 1, 1, 1, 1, 1, 1]])}"
      ]
     },
     "metadata": {},
     "execution_count": 9
    }
   ],
   "metadata": {}
  },
  {
   "cell_type": "code",
   "execution_count": 10,
   "source": [
    "outputs"
   ],
   "outputs": [
    {
     "output_type": "execute_result",
     "data": {
      "text/plain": [
       "MaskedLMOutput(loss=None, logits=tensor([[[ -7.9119,  -7.8119,  -7.8056,  ...,  -6.5529,  -6.1713,  -6.4862],\n",
       "         [ -8.2322,  -8.0884,  -8.0818,  ...,  -6.7162,  -6.2229,  -6.5252],\n",
       "         [-16.1794, -16.3523, -18.0674,  ...,  -8.4667,  -4.2078,  -5.2893],\n",
       "         ...,\n",
       "         [ -7.7972,  -7.5529,  -7.6924,  ...,  -4.1089,  -2.6128,  -3.1202],\n",
       "         [ -7.9204,  -7.5319,  -7.7652,  ...,  -4.1665,  -2.4351,  -3.1046],\n",
       "         [ -7.9449,  -7.6439,  -7.8875,  ...,  -4.2426,  -2.6454,  -3.0096]],\n",
       "\n",
       "        [[ -8.0285,  -7.9644,  -7.9966,  ...,  -6.9183,  -6.6847,  -7.0758],\n",
       "         [ -8.1193,  -7.9995,  -7.9447,  ...,  -6.7129,  -6.3368,  -6.5415],\n",
       "         [-16.6799, -16.4066, -18.4110,  ...,  -9.9241,  -4.0629,  -5.6410],\n",
       "         ...,\n",
       "         [-13.4532, -13.5211, -12.6752,  ...,  -9.8302,  -4.2376, -10.3354],\n",
       "         [-10.6056, -10.2510, -10.3465,  ...,  -8.8303,  -3.1233,  -7.3241],\n",
       "         [-10.3576, -10.5163, -10.6644,  ...,  -8.2772,  -5.6076,  -8.5861]]],\n",
       "       grad_fn=<AddBackward0>), hidden_states=None, attentions=None)"
      ]
     },
     "metadata": {},
     "execution_count": 10
    }
   ],
   "metadata": {}
  },
  {
   "cell_type": "code",
   "execution_count": 11,
   "source": [
    "outputs.logits.shape"
   ],
   "outputs": [
    {
     "output_type": "execute_result",
     "data": {
      "text/plain": [
       "torch.Size([2, 31, 21128])"
      ]
     },
     "metadata": {},
     "execution_count": 11
    }
   ],
   "metadata": {}
  },
  {
   "cell_type": "code",
   "execution_count": 13,
   "source": [
    "model.get_output_embeddings()"
   ],
   "outputs": [
    {
     "output_type": "execute_result",
     "data": {
      "text/plain": [
       "Linear(in_features=768, out_features=21128, bias=True)"
      ]
     },
     "metadata": {},
     "execution_count": 13
    }
   ],
   "metadata": {}
  },
  {
   "cell_type": "markdown",
   "source": [
    "# Okay not let's figure out how to use the outputs\n",
    "\n",
    "Sources: \n",
    "\n",
    "1. done https://towardsdatascience.com/bert-for-measuring-text-similarity-eec91c6bf9e1\n",
    "2. https://towardsdatascience.com/bert-text-classification-in-a-different-language-6af54930f9cb\n",
    "3. https://jalammar.github.io/a-visual-guide-to-using-bert-for-the-first-time/\n",
    "4. https://towardsdatascience.com/how-bert-determines-search-relevance-2a67a1575ac4\n",
    "5. https://bergum.medium.com/how-not-to-use-bert-for-search-ranking-4586716428d9\n"
   ],
   "metadata": {}
  },
  {
   "cell_type": "code",
   "execution_count": null,
   "source": [],
   "outputs": [],
   "metadata": {}
  },
  {
   "cell_type": "markdown",
   "source": [
    "# Now try to do some document ranking.\n",
    "\n",
    "Emm but no idea how to do that... No worries let's read some articles\n",
    "\n",
    "1. https://medium.com/@papai143/information-retrieval-with-document-re-ranking-with-bert-and-bm25-7c29d738df73\n",
    "2. https://medium.com/nerd-for-tech/bert-qe-contextualized-query-expansion-for-document-re-ranking-4f0f421840b9"
   ],
   "metadata": {}
  },
  {
   "cell_type": "code",
   "execution_count": null,
   "source": [],
   "outputs": [],
   "metadata": {}
  },
  {
   "cell_type": "markdown",
   "source": [
    "# Try sentence transformer?"
   ],
   "metadata": {}
  },
  {
   "cell_type": "code",
   "execution_count": 95,
   "source": [
    "from sentence_transformers import SentenceTransformer\n",
    "from pprint import pprint\n",
    "import torch\n",
    "from sentence_transformers import util"
   ],
   "outputs": [],
   "metadata": {}
  },
  {
   "cell_type": "code",
   "execution_count": 98,
   "source": [
    "if torch.cuda.is_available():\n",
    "    DEVICE = torch.device(\"cuda:0\")  \n",
    "    print(\"Running on the GPU\")\n",
    "else:\n",
    "    DEVICE = torch.device(\"cpu\")\n",
    "    print(\"Running on the CPU\")"
   ],
   "outputs": [
    {
     "output_type": "stream",
     "name": "stdout",
     "text": [
      "Running on the CPU\n"
     ]
    }
   ],
   "metadata": {}
  },
  {
   "cell_type": "code",
   "execution_count": 99,
   "source": [
    "# sentence_transformer_model = SentenceTransformer('distiluse-base-multilingual-cased-v1', device=DEVICE)\n",
    "# later use this bigger model for higher performance 'paraphrase-multilingual-mpnet-base-v2'\n",
    "sentence_transformer_model_v2 = SentenceTransformer('paraphrase-multilingual-mpnet-base-v2', device=DEVICE)"
   ],
   "outputs": [],
   "metadata": {}
  },
  {
   "cell_type": "code",
   "execution_count": 100,
   "source": [
    "sentences = ['This framework generates embeddings for each input sentence',\n",
    "    'Sentences are passed as a list of string.',\n",
    "    'The quick brown fox jumps over the lazy dog.',\n",
    "    'Le renard brun et rapide saute par-dessus le chien paresseux.',\n",
    "    '敏捷的棕色狐狸跳过懒惰的狗',\n",
    "    'London is the best place on earth.',\n",
    "    'I love London.']"
   ],
   "outputs": [],
   "metadata": {}
  },
  {
   "cell_type": "code",
   "execution_count": 101,
   "source": [
    "sentence_embeddings = sentence_transformer_model_v2.encode(sentences)"
   ],
   "outputs": [],
   "metadata": {}
  },
  {
   "cell_type": "code",
   "execution_count": 102,
   "source": [
    "sentence_embeddings"
   ],
   "outputs": [
    {
     "output_type": "execute_result",
     "data": {
      "text/plain": [
       "array([[-0.00925649, -0.25025994, -0.01117302, ...,  0.13195269,\n",
       "        -0.16931531, -0.17440246],\n",
       "       [ 0.15494236, -0.06809119, -0.01351547, ...,  0.01244846,\n",
       "        -0.11615185, -0.12480734],\n",
       "       [-0.09213712,  0.08014815, -0.00743247, ...,  0.15812053,\n",
       "         0.255048  ,  0.03574583],\n",
       "       ...,\n",
       "       [-0.02064275,  0.12411997, -0.01361182, ...,  0.15744969,\n",
       "         0.1656531 ,  0.00059244],\n",
       "       [-0.11416887, -0.03790707, -0.01347593, ..., -0.00388702,\n",
       "         0.07200608, -0.02660454],\n",
       "       [-0.23245244,  0.07675917, -0.01163195, ...,  0.07803821,\n",
       "         0.03771931, -0.18306209]], dtype=float32)"
      ]
     },
     "metadata": {},
     "execution_count": 102
    }
   ],
   "metadata": {}
  },
  {
   "cell_type": "code",
   "execution_count": 103,
   "source": [
    "sentence_embeddings[0]"
   ],
   "outputs": [
    {
     "output_type": "execute_result",
     "data": {
      "text/plain": [
       "array([-9.25648678e-03, -2.50259936e-01, -1.11730229e-02,  1.17274500e-01,\n",
       "        1.07081749e-01,  5.40037313e-03,  1.46492511e-01,  1.44696152e-02,\n",
       "        1.06310651e-01,  6.33549914e-02,  2.63547003e-02,  2.65325576e-01,\n",
       "       -7.31476173e-02,  1.89226300e-01,  1.05784861e-02, -2.06184015e-01,\n",
       "        1.31849304e-01, -4.92107384e-02, -4.50022817e-02, -2.53913971e-03,\n",
       "        7.82639310e-02, -2.97641549e-02,  4.54539713e-03, -1.12729985e-02,\n",
       "       -1.20644532e-01,  2.43622176e-02, -1.43141404e-01,  2.72789598e-02,\n",
       "       -1.48834633e-02,  3.08458321e-02, -2.59506553e-02,  1.07542817e-02,\n",
       "       -8.04948136e-02, -1.60233527e-01,  6.63666204e-02,  2.12231167e-02,\n",
       "       -1.53289288e-01,  3.46428272e-03, -1.33140400e-01, -6.58026412e-02,\n",
       "       -1.31101459e-01, -8.27819705e-02,  5.41608520e-02,  2.45997291e-02,\n",
       "       -1.14434473e-01,  4.85093007e-03,  1.80670828e-01,  1.63245164e-02,\n",
       "        2.29559660e-01,  3.58686928e-04, -1.00527301e-01,  2.20974442e-02,\n",
       "       -1.46725690e-02,  1.22193441e-01,  4.00477760e-02, -1.53699368e-01,\n",
       "       -6.36366662e-03, -2.39348840e-02, -1.81877855e-02,  1.22280724e-01,\n",
       "       -1.00342073e-01, -4.79179509e-02,  1.88289843e-02, -8.88236910e-02,\n",
       "        2.78985184e-02, -3.92919667e-02, -1.91394575e-02, -2.12688744e-03,\n",
       "       -1.56745210e-01,  1.04388550e-01,  3.00291836e-01,  1.34791816e-02,\n",
       "        2.11487673e-02, -1.40897706e-01, -3.96654233e-02, -3.79050933e-02,\n",
       "       -7.91209340e-02,  2.16867365e-02, -2.07490064e-02,  6.08664528e-02,\n",
       "        1.63451314e-01,  4.04117219e-02, -6.52306452e-02,  7.34252855e-02,\n",
       "       -5.88078015e-02, -9.05694813e-02,  3.14204511e-03, -5.91315255e-02,\n",
       "       -2.14349583e-01,  1.38401175e-02,  9.66055468e-02, -1.27101600e-01,\n",
       "        1.13352668e-02, -6.52714297e-02, -5.95245287e-02,  5.39575191e-03,\n",
       "       -1.00438520e-01,  3.77513245e-02,  5.73557690e-02,  8.67233723e-02,\n",
       "        1.47595525e-01,  8.92543644e-02, -1.75924692e-02,  1.11088239e-01,\n",
       "        7.75808915e-02, -1.29427373e-01,  4.71465103e-02, -9.90661830e-02,\n",
       "       -6.36031702e-02,  3.33525278e-02, -1.14059327e-02, -1.77743539e-01,\n",
       "       -2.01473847e-01,  1.71841115e-01, -1.03610016e-01, -8.47272277e-02,\n",
       "       -1.72747381e-03,  1.47714302e-01, -5.22568822e-02, -5.53176664e-02,\n",
       "       -1.54099271e-01, -7.41737336e-02, -2.08843201e-02,  4.60943617e-02,\n",
       "        5.70717975e-02, -8.53623152e-02,  2.30844319e-02,  9.26613808e-02,\n",
       "       -3.68926837e-03, -4.46284190e-02, -1.18173972e-01,  5.65496497e-02,\n",
       "        4.04692302e-03,  2.48125438e-02, -6.56699017e-02,  1.96149311e-04,\n",
       "        5.44704162e-02,  4.21254970e-02,  5.88089526e-02, -1.28698081e-01,\n",
       "        1.10300137e-02, -4.81273159e-02, -8.73786286e-02, -2.19228908e-01,\n",
       "        1.33083805e-01,  6.71454743e-02, -4.71268333e-02, -8.15221220e-02,\n",
       "        6.35928884e-02, -2.80344766e-02,  5.69130965e-02,  9.46162418e-02,\n",
       "       -2.04838499e-01,  1.45992814e-02, -7.39906207e-02, -5.07961540e-03,\n",
       "        2.02874735e-01,  1.58263341e-01,  5.14318720e-02,  8.03609639e-02,\n",
       "       -1.98184941e-02,  1.02638952e-01, -9.39756706e-02,  1.69232432e-02,\n",
       "       -5.87568097e-02,  1.09248556e-01, -1.46171853e-01, -1.07695982e-01,\n",
       "        1.66370496e-01,  1.36441728e-02, -2.49671325e-01, -3.75698172e-02,\n",
       "       -7.54184201e-02,  3.17588359e-01, -4.53031361e-02,  2.77552873e-01,\n",
       "        6.71914220e-02,  4.52978611e-02,  1.19959377e-01,  4.91306372e-02,\n",
       "        2.92871129e-02,  2.25200817e-01,  6.49252459e-02,  5.80635965e-02,\n",
       "        1.52757000e-02, -1.29965134e-04,  1.79639254e-02, -5.43900020e-02,\n",
       "        6.81510046e-02, -4.98562716e-02,  1.12618603e-01,  1.10185809e-01,\n",
       "       -4.55069132e-02, -5.46206571e-02, -6.11410327e-02,  1.40818311e-02,\n",
       "       -4.97600846e-02,  1.36050299e-01, -1.36885131e-02, -1.33419707e-01,\n",
       "       -2.56264908e-03, -6.66363090e-02,  3.48147377e-02,  5.66679724e-02,\n",
       "        2.66382005e-02, -1.40907168e-01, -1.49921641e-01, -7.38056824e-02,\n",
       "        1.51898652e-01,  1.41071528e-01,  9.46449563e-02, -3.35702226e-02,\n",
       "        2.68974621e-02,  1.44904375e-01,  4.56527546e-02,  9.54592749e-02,\n",
       "        5.84382117e-02, -7.99941942e-02, -1.97007418e-01, -4.74941768e-02,\n",
       "       -9.89520550e-02,  3.19981724e-01,  1.67144388e-02,  5.33866473e-02,\n",
       "        2.57927980e-02, -6.79568201e-02,  2.38516089e-02, -2.76207160e-02,\n",
       "       -3.43162827e-02, -9.73500684e-02, -1.01706527e-01,  1.18560858e-01,\n",
       "        1.31721660e-01, -3.18316231e-03, -5.27090468e-02,  9.02977213e-02,\n",
       "       -3.71940047e-01, -2.37857848e-01,  1.88990496e-02, -5.06095588e-02,\n",
       "        1.01221941e-01, -4.36319530e-01,  8.88557581e-04,  2.63915621e-02,\n",
       "        3.22225019e-02, -3.35684493e-02,  2.27567226e-01,  1.64673291e-02,\n",
       "        3.59531417e-02,  1.34861621e-03, -1.06904963e-02,  2.67807953e-02,\n",
       "       -1.62987784e-03, -1.01844892e-01, -3.47828455e-02, -3.34265195e-02,\n",
       "       -7.25955591e-02,  4.50157858e-02,  5.81547432e-02,  1.33394793e-01,\n",
       "        6.51943013e-02,  6.72685131e-02,  1.56899411e-02, -2.28824783e-02,\n",
       "        7.39301592e-02, -3.14545557e-02, -2.82233711e-02, -2.78553098e-01,\n",
       "        5.13025373e-03, -4.29166202e-03,  3.79241584e-03,  8.03954378e-02,\n",
       "        4.79088025e-03,  6.15445664e-03,  2.95380987e-02,  3.07683069e-02,\n",
       "       -6.99599758e-02,  7.16385469e-02, -2.45730076e-02, -1.44093195e-02,\n",
       "       -9.86653380e-03,  4.62937094e-02, -2.98459977e-02, -3.41421105e-02,\n",
       "       -1.31376892e-01,  7.64959380e-02, -1.89056501e-01, -2.81518787e-01,\n",
       "       -1.96573704e-01, -2.96213865e-01, -4.62080576e-02,  7.09542930e-02,\n",
       "        1.79759473e-01, -1.36747390e-01,  5.04863895e-02, -5.34145497e-02,\n",
       "        2.47480702e-02,  2.07988426e-01,  2.35717613e-02,  1.70132384e-01,\n",
       "        5.68398722e-02, -1.57317985e-02, -1.00274704e-01, -1.09873647e-02,\n",
       "       -6.77048787e-02,  1.32865578e-01,  4.49286215e-02, -1.39109194e-01,\n",
       "        5.11654429e-02,  1.76914692e-01,  1.62913427e-01,  1.64844200e-01,\n",
       "       -1.30975973e-02,  2.81949103e-01, -4.54840399e-02,  7.09842984e-03,\n",
       "        1.05900764e-01, -1.87747315e-01,  1.84754450e-02,  2.82246858e-01,\n",
       "       -3.95943522e-02, -1.71277732e-01,  3.81272398e-02, -6.83396216e-03,\n",
       "       -9.46960319e-03,  3.81295457e-02, -5.85452691e-02, -1.54844612e-01,\n",
       "       -6.67580217e-02,  1.43654481e-01,  2.65273657e-02,  7.55394697e-02,\n",
       "        7.98689723e-02, -4.14943919e-02,  4.65814136e-02,  1.52792484e-01,\n",
       "        9.90260094e-02,  4.96233953e-03,  2.02019699e-02,  1.00624695e-01,\n",
       "        5.71266748e-02, -1.17313862e-01, -8.78674909e-02,  5.10938428e-02,\n",
       "        7.49378279e-02,  6.72976151e-02,  7.60923475e-02,  1.33465216e-01,\n",
       "       -1.09815309e-02, -5.42149842e-02,  1.66694477e-01, -1.36708051e-01,\n",
       "        9.97617282e-03, -2.61497889e-02, -1.26081273e-01,  2.76245978e-02,\n",
       "        1.15744255e-01, -1.95474196e-02,  5.76145947e-04, -1.51164010e-01,\n",
       "        1.85053065e-01,  9.99162197e-02, -5.05151264e-02,  1.84779897e-01,\n",
       "       -1.15464859e-01,  1.12800665e-01,  6.31479546e-02,  1.27319261e-01,\n",
       "       -1.02785565e-01, -3.52158323e-02,  3.47467745e-03,  2.08191443e-02,\n",
       "        4.75593805e-02,  4.41761985e-02,  1.19975492e-01,  1.21641442e-01,\n",
       "        1.14879772e-01, -1.20540261e-02, -8.15950111e-02,  8.49904027e-03,\n",
       "        1.12516217e-01, -1.48822412e-01,  9.95129421e-02,  2.76153199e-02,\n",
       "       -9.51129347e-02, -1.42558470e-01,  3.26235928e-02, -7.54420087e-02,\n",
       "       -6.42825291e-02,  1.21964589e-01, -3.28784510e-02,  6.50447905e-02,\n",
       "       -4.34150500e-03, -2.54501658e-03,  1.99617781e-02,  1.80083066e-01,\n",
       "       -1.92021713e-01,  8.96326825e-02, -2.73655001e-02,  3.40862535e-02,\n",
       "        1.77613683e-02,  9.49315354e-02, -1.70783494e-02, -3.44261914e-01,\n",
       "        7.18975663e-02,  1.55843616e-01,  6.11334387e-03,  9.53213796e-02,\n",
       "        3.73285636e-02,  1.60689965e-01,  7.32413456e-02, -2.66006380e-01,\n",
       "        2.20861938e-02, -4.14763317e-02,  2.71455441e-02, -7.41914660e-02,\n",
       "       -9.19713378e-02, -1.49265036e-01, -4.82338332e-02,  1.85182944e-01,\n",
       "       -1.21489130e-01, -7.80437365e-02,  1.22594200e-01, -5.84867001e-02,\n",
       "        1.50211319e-01, -7.60064349e-02,  3.11578531e-02,  2.19661184e-02,\n",
       "       -8.94017797e-03,  8.04376602e-02,  1.70824397e-02, -3.54327373e-02,\n",
       "       -3.13641392e-02, -1.31821275e-01, -5.25478981e-02,  1.29703775e-01,\n",
       "        1.21512217e-02, -2.89680988e-01, -5.05970325e-03, -1.75591394e-01,\n",
       "        9.47434828e-02,  1.80006862e-01,  2.74715632e-01, -2.19558571e-02,\n",
       "        1.38698027e-01, -1.97130889e-02, -1.24113150e-01, -1.22648582e-01,\n",
       "       -1.22392893e-01,  7.81004876e-02, -1.63548603e-03,  1.02091782e-01,\n",
       "       -7.67699480e-02,  4.72516529e-02, -5.88623099e-02,  5.28853536e-02,\n",
       "       -5.42995334e-02, -8.33883435e-02, -1.15883663e-01,  1.15041561e-01,\n",
       "       -1.87879540e-02,  2.90097952e-01, -5.46087250e-02, -1.56710614e-02,\n",
       "        1.25057483e-02, -1.77443195e-02,  6.20294213e-02, -1.22113779e-01,\n",
       "        2.75453627e-02,  8.75386000e-02, -7.51451477e-02,  2.84324009e-02,\n",
       "        8.53550658e-02,  1.04547456e-01,  1.37380525e-01, -3.48365749e-03,\n",
       "       -2.88497470e-02, -7.68249631e-02, -2.44978280e-03, -4.75462936e-02,\n",
       "        4.85345311e-02, -2.03669056e-01, -8.35199207e-02, -1.50838822e-01,\n",
       "        4.50152270e-02,  5.41365482e-02, -2.65972354e-02, -2.96230447e-02,\n",
       "       -1.00405850e-01,  4.97872755e-02,  4.62280167e-03,  1.01436421e-01,\n",
       "        3.51168886e-02,  2.69457281e-01, -1.59177288e-01,  1.87344387e-01,\n",
       "        2.17292562e-01,  7.39009827e-02, -5.56160472e-02, -1.39068082e-01,\n",
       "        5.86496666e-04,  6.47450015e-02,  2.15005912e-02, -6.85483217e-02,\n",
       "        1.11150026e-01, -4.19226363e-02, -1.37026161e-01,  1.54572397e-01,\n",
       "        1.26122847e-01,  3.57353762e-02, -5.33044897e-02,  1.45098835e-01,\n",
       "       -1.00141361e-01,  1.80284366e-01, -2.84566712e-02,  1.37922645e-01,\n",
       "       -1.25755280e-01, -6.23939326e-03,  9.05982926e-02,  1.35160178e-01,\n",
       "       -4.75118235e-02,  6.07467331e-02,  8.85854885e-02,  1.59674429e-03,\n",
       "        2.42147949e-02,  4.29205224e-02,  1.39417663e-01, -5.72590567e-02,\n",
       "       -4.72591519e-02,  9.35588852e-02, -1.60052180e-01,  4.37038466e-02,\n",
       "        7.45191798e-03, -9.72179323e-02, -7.07641020e-02,  8.25398937e-02,\n",
       "        9.29969400e-02,  1.27557084e-01,  5.60398959e-02, -1.01485588e-01,\n",
       "       -2.98373925e-04, -2.24869046e-02,  1.66566335e-02,  7.68572763e-02,\n",
       "        4.22000103e-02,  1.99679267e-02, -5.69290249e-03, -5.87710924e-02,\n",
       "        7.17421919e-02, -1.90273635e-02,  2.31059995e-02,  1.96227003e-02,\n",
       "       -7.89014548e-02,  2.97270752e-02,  1.98517159e-01, -9.89655927e-02,\n",
       "       -1.89898342e-01, -9.53426957e-02, -5.35678044e-02,  1.04563363e-01,\n",
       "       -3.91035490e-02, -1.32623166e-01, -2.19908860e-02,  8.54196474e-02,\n",
       "        6.09388724e-02, -5.98070323e-02,  4.00044397e-02, -1.21938409e-02,\n",
       "        9.47694108e-02, -4.94490452e-02,  6.37620464e-02, -2.57074125e-02,\n",
       "        3.41215432e-02,  5.83739989e-02, -9.94345397e-02,  3.47933322e-02,\n",
       "       -1.64795034e-02, -1.39040679e-01,  1.55050615e-02,  2.89589372e-02,\n",
       "        3.03126872e-02,  2.81894542e-02,  4.05223370e-02,  4.77378033e-02,\n",
       "        2.32724939e-04, -1.60426013e-02, -8.62300843e-02,  7.75063187e-02,\n",
       "       -2.21221782e-02,  2.74018824e-01,  9.77881532e-03,  1.40893564e-01,\n",
       "       -1.21830985e-01, -9.82237086e-02, -4.13901880e-02, -1.17378738e-02,\n",
       "       -1.50573298e-01,  2.55257189e-02,  1.76729947e-01, -2.09929235e-02,\n",
       "        1.08880237e-01, -8.06908496e-03, -2.55006906e-02,  7.99399242e-02,\n",
       "        2.40573920e-02,  2.36932620e-01, -2.04493731e-01, -5.59946634e-02,\n",
       "       -4.48534153e-02,  1.20736837e-01, -5.65658212e-02,  4.07087281e-02,\n",
       "        3.23604397e-03, -6.23376779e-02,  4.41867784e-02,  3.15065053e-03,\n",
       "       -1.63140818e-02,  4.96240146e-02,  3.72012220e-02, -9.67968330e-02,\n",
       "        5.45841269e-02,  6.48542121e-02,  1.11448236e-01,  5.30515723e-02,\n",
       "       -1.83473960e-01, -6.52527213e-02,  9.42969248e-02,  4.09186371e-02,\n",
       "        2.77902465e-02,  5.80556169e-02,  1.28629431e-02,  5.00651598e-02,\n",
       "       -1.29855156e-01, -8.49671848e-03, -2.48240419e-02,  2.63298571e-01,\n",
       "       -8.84218421e-03,  2.16445886e-02,  8.08991641e-02, -9.83721837e-02,\n",
       "       -2.08307549e-01, -8.68578926e-02, -4.21388680e-03, -1.96642607e-01,\n",
       "       -5.93193173e-02, -1.17096804e-01, -1.28552124e-01, -1.69709355e-01,\n",
       "        3.86424153e-03,  1.43606618e-01,  7.34155551e-02,  2.17737237e-04,\n",
       "       -5.46761639e-02, -9.13209394e-02, -1.05302133e-01,  1.17390826e-01,\n",
       "        3.96651737e-02,  3.30900885e-02,  2.74765305e-02, -6.02597259e-02,\n",
       "        5.92581891e-02,  4.69626896e-02,  1.32236019e-01,  2.94220783e-02,\n",
       "       -2.24629387e-01, -1.39417216e-01, -5.50492629e-02, -2.62367968e-02,\n",
       "       -1.18850626e-01,  1.52724296e-01,  7.56326318e-02, -9.56166759e-02,\n",
       "       -4.86505069e-02, -9.44743119e-03, -1.88924391e-02,  3.75633314e-02,\n",
       "       -6.48007765e-02,  2.06294493e-03,  1.09310940e-01,  1.60960525e-01,\n",
       "       -1.10010274e-01, -1.53192563e-03, -1.32460549e-01,  1.29825726e-01,\n",
       "        1.82785749e-01, -9.65213031e-02,  3.30877714e-02,  1.03960112e-01,\n",
       "        7.09584504e-02,  1.13452367e-01,  1.05946772e-01,  2.86519285e-02,\n",
       "        1.71353653e-01,  2.15042327e-02, -1.45538780e-03,  1.34097366e-02,\n",
       "        6.52541360e-03, -1.23162948e-01, -9.78679806e-02,  8.27502273e-03,\n",
       "       -5.06667467e-03,  5.89611866e-02,  1.24753594e-01, -1.35128140e-01,\n",
       "        2.06840962e-01,  9.84548125e-03, -5.15009277e-02, -1.20660618e-01,\n",
       "       -6.73844889e-02,  1.79515317e-01, -4.02814560e-02,  1.49995089e-01,\n",
       "        6.60192147e-02, -1.33930504e-01,  7.22322240e-02,  4.29007933e-02,\n",
       "       -5.68381250e-02, -1.26729300e-02, -2.37176474e-02, -2.86042392e-01,\n",
       "       -1.28334863e-02, -5.89607172e-02,  5.95758669e-02,  6.19206019e-02,\n",
       "        5.33733927e-02,  1.04327954e-01,  7.12594483e-03, -1.68297980e-02,\n",
       "        1.33746430e-01,  1.07140087e-01,  5.68080172e-02, -5.66988289e-02,\n",
       "       -4.64061797e-02,  1.11080751e-01, -2.42772311e-01,  5.40430434e-02,\n",
       "       -1.94963187e-01, -1.12625873e-02,  4.60618734e-02,  7.32073262e-02,\n",
       "       -2.81690694e-02,  4.58855275e-03, -4.41560149e-02, -4.11818922e-02,\n",
       "       -3.38207707e-02,  4.02318016e-02, -7.79237002e-02,  3.67999612e-03,\n",
       "        4.35621478e-02, -1.11833803e-01, -8.39930177e-02, -8.27049389e-02,\n",
       "       -3.72173847e-03,  1.07580302e-02, -2.57969439e-01, -6.09356798e-02,\n",
       "        1.31520350e-02,  1.21204387e-02, -2.58234441e-02,  1.74157605e-01,\n",
       "        2.26921991e-01, -4.91305850e-02, -9.80207399e-02, -2.02225342e-01,\n",
       "        7.25801140e-02,  1.31952688e-01, -1.69315308e-01, -1.74402460e-01],\n",
       "      dtype=float32)"
      ]
     },
     "metadata": {},
     "execution_count": 103
    }
   ],
   "metadata": {}
  },
  {
   "cell_type": "code",
   "execution_count": 105,
   "source": [
    "print('sentences: ', sentences[0], '\\n', sentences[4])\n",
    "print('dot similarity: ', util.dot_score(sentence_embeddings[0], sentence_embeddings[4]))\n",
    "print('cos similarity: ', util.pytorch_cos_sim(sentence_embeddings[0], sentence_embeddings[4]))\n",
    "\n",
    "print('sentences: ', sentences[2], '\\n', sentences[4])\n",
    "print('dot similarity: ', util.dot_score(sentence_embeddings[2], sentence_embeddings[4]))\n",
    "print('cos similarity: ', util.pytorch_cos_sim(sentence_embeddings[2], sentence_embeddings[4]))\n",
    "\n",
    "print('sentences: ', sentences[3], '\\n', sentences[4])\n",
    "print('dot similarity: ', util.dot_score(sentence_embeddings[3], sentence_embeddings[4]))\n",
    "print('cos similarity: ', util.pytorch_cos_sim(sentence_embeddings[3], sentence_embeddings[4]))\n",
    "\n",
    "print('sentences: ', sentences[5], '\\n', sentences[6])\n",
    "print('dot similarity: ', util.dot_score(sentence_embeddings[5], sentence_embeddings[6]))\n",
    "print('cos similarity: ', util.pytorch_cos_sim(sentence_embeddings[5], sentence_embeddings[6]))"
   ],
   "outputs": [
    {
     "output_type": "stream",
     "name": "stdout",
     "text": [
      "sentences:  This framework generates embeddings for each input sentence \n",
      " 敏捷的棕色狐狸跳过懒惰的狗\n",
      "dot similarity:  tensor([[0.5263]])\n",
      "cos similarity:  tensor([[0.0797]])\n",
      "sentences:  The quick brown fox jumps over the lazy dog. \n",
      " 敏捷的棕色狐狸跳过懒惰的狗\n",
      "dot similarity:  tensor([[6.1115]])\n",
      "cos similarity:  tensor([[0.9069]])\n",
      "sentences:  Le renard brun et rapide saute par-dessus le chien paresseux. \n",
      " 敏捷的棕色狐狸跳过懒惰的狗\n",
      "dot similarity:  tensor([[5.9588]])\n",
      "cos similarity:  tensor([[0.9261]])\n",
      "sentences:  London is the best place on earth. \n",
      " I love London.\n",
      "dot similarity:  tensor([[8.4054]])\n",
      "cos similarity:  tensor([[0.7646]])\n"
     ]
    }
   ],
   "metadata": {}
  },
  {
   "cell_type": "markdown",
   "source": [
    "# okay now get some passages out of ES to test this"
   ],
   "metadata": {}
  },
  {
   "cell_type": "code",
   "execution_count": 131,
   "source": [
    "test_query = '班上同学欠钱不还怎么办'\n",
    "INDEX = \"efaqa-70\" # index to search e.g. \"msmacro-full\"\n",
    "FIELDS = [\"passage\"] # fields to search e.g. [\"passage\", \"query\"]"
   ],
   "outputs": [],
   "metadata": {}
  },
  {
   "cell_type": "code",
   "execution_count": 132,
   "source": [
    "from es_helper import *"
   ],
   "outputs": [],
   "metadata": {}
  },
  {
   "cell_type": "code",
   "execution_count": 133,
   "source": [
    "result_count, es_hits = es_search(test_query, cutoff = 10, index=INDEX, fields = FIELDS)\n",
    "es_results = direct_es_search_result('dummy', test_query, es_hits)"
   ],
   "outputs": [
    {
     "output_type": "stream",
     "name": "stderr",
     "text": [
      "/Users/leonlu-m1/opt/anaconda3/lib/python3.8/site-packages/elasticsearch/connection/base.py:209: ElasticsearchWarning: Elasticsearch built-in security features are not enabled. Without authentication, your cluster could be accessible to anyone. See https://www.elastic.co/guide/en/elasticsearch/reference/7.13/security-minimal-setup.html to enable security.\n",
      "  warnings.warn(message, category=ElasticsearchWarning)\n"
     ]
    }
   ],
   "metadata": {}
  },
  {
   "cell_type": "code",
   "execution_count": 134,
   "source": [
    "def rerank(es_results):\n",
    "    '''\n",
    "    gets a result table, reranks it, and returns a reranked result table\n",
    "    '''\n",
    "    passages = [hit['passage'] for hit in es_results.table]\n",
    "    queries = [es_results.query_input]\n",
    "    query_embeddings = sentence_transformer_model_v2.encode(queries, convert_to_tensor=True)\n",
    "    sentence_embeddings = sentence_transformer_model_v2.encode(passages, convert_to_tensor=True)\n",
    "\n",
    "    sentence_embeddings = sentence_embeddings.to(DEVICE)\n",
    "    sentence_embeddings = util.normalize_embeddings(sentence_embeddings)\n",
    "\n",
    "    query_embeddings = query_embeddings.to(DEVICE)\n",
    "    query_embeddings = util.normalize_embeddings(query_embeddings)\n",
    "\n",
    "    reranked_ranking = util.semantic_search(query_embeddings, sentence_embeddings, score_function=util.dot_score)\n",
    "\n",
    "    reranked_table = []\n",
    "    for index, entry_at_rank in enumerate(reranked_ranking[0]):\n",
    "        corpus_id = entry_at_rank['corpus_id']\n",
    "        entry = es_results.table[corpus_id]\n",
    "        entry['score'] = entry_at_rank['score']\n",
    "        entry['rank'] = index\n",
    "\n",
    "        reranked_table.append(entry)\n",
    "    es_results.table = reranked_table\n",
    "    \n",
    "    return es_results\n",
    "        \n",
    "es_results = rerank(es_results)"
   ],
   "outputs": [],
   "metadata": {}
  },
  {
   "cell_type": "code",
   "execution_count": null,
   "source": [
    "es_results.table"
   ],
   "outputs": [
    {
     "output_type": "execute_result",
     "data": {
      "text/plain": [
       "[{'rank': 0,\n",
       "  'qid': 'q0',\n",
       "  'pid': 'p0',\n",
       "  'query_label': '念书是为了坐办公室吗？？？为什么？为什么嗯念书是为了坐办公室吗唉，考试考得不好家里人说，看不上好大学很丢人，经常拿我和村里的好学生比较，受不了了但是家里人…………谢啦',\n",
       "  'passage': '念书是为了自我提升，自我完善学习不是为了攀比，也不是为了单纯的为了做办公室我也是呢，父母很关心学习所以才进行比较的。不是办公室的问题，请你想想，在提升自己的同时，你的未来也会一片明亮，现在的学业成绩决定这未来伴侣的颜值，嘿嘿，放松心态，加油，送你一句话吧 不要让你野心配不上自己的实力，而你是否配的上你想要的生活呢？学生党路过感慨',\n",
       "  'score': 0.5146608948707581},\n",
       " {'rank': 1,\n",
       "  'qid': 'q0',\n",
       "  'pid': 'p0',\n",
       "  'query_label': '医师您好，我儿子（14岁）已经离家出走两天了。但是我发短信他还回，说让我们不要找他，他要去找工作，他在朋友家住，他对学习没有信趣。我们该怎么办？？两三年了吧不用报案吗我也这样想，但怕他出去被骗去做坏事他没让我知道在那个朋友那他出去后我能联系上他时我就是这么说的一般这样多久算安全的这样啊这个是一定的，只要他回来后我一定多咨询你们好的已经关注过了他的学习我让为我们也没强迫太多从没要求过他只是让他多努点，只要求中等水平可是只要中等水平不过吧，我们是在小城市的这也是，我们真的不知道该怎么办了',\n",
       "  'passage': '孩子的今天是昨天父母教育的结果，你们以前是怎么面对和教育孩子的呢？不论如何给孩子找回来！不念书可以，离家出走怎么是什么意思！回家后说清楚彼此的心里话再去干自己干的事！否则以后还会出现别的突发事件！不能惯！没有规矩早晚出事……',\n",
       "  'score': 0.5065162777900696},\n",
       " {'rank': 2,\n",
       "  'qid': 'q0',\n",
       "  'pid': 'p0',\n",
       "  'query_label': '严重的拖延症感觉让自己生活很糟糕，而且在学习工作中也不能做到专注，总是一边看剧一边工作。持续时间很久了，现在会有对生活的困惑感和很深的挫败感。也没有允许的问题。。就这样肯定会效率低下 会事倍功半 现在就感觉自己干啥啥不成',\n",
       "  'passage': '看剧的时候是怎样的感受呢？似乎整个世界都忘了。抬头的时候回想时。。。才会如此。既然选择为何抬头呢？拖延往往是由于完美和对自己的过度控制。还有对很多事情有很糟糕的估计。我在平台上写过一篇文章，叫做每个拖延的都有一个倔强的灵魂。可以去找一找读一读。',\n",
       "  'score': 0.4716399312019348},\n",
       " {'rank': 3,\n",
       "  'qid': 'q0',\n",
       "  'pid': 'p0',\n",
       "  'query_label': '孩子上一年级了，因为考试成绩不好，没写完作业，不敢上学，心理承受能力差，怎么办我错了，现在考虑的是怎样让他开开心心的上学去我今天问了一下他幼儿园老师，了解到孩子从上小班对老师就很抵触，从不主动跟老师说话这次开学没写完作业，老师碰了他一下，就不去了在家玩了两天，做作业都成问题啦，老师都跟他说不打他，还在开学第一天的作业本上给他评了优呢，那也不去',\n",
       "  'passage': '孩子的问题肯定是家长的问题，你是怎么教育孩子的在面对学习这方面。你现在的想法太正确了，比起一些名牌大学的大学生还会跳楼自杀，孩子健康，尤其是心理健康，真的是最重要的，所以成绩不好要去鼓励他，作业写不完，可以帮着和老师解释一下',\n",
       "  'score': 0.4393884837627411},\n",
       " {'rank': 4,\n",
       "  'qid': 'q0',\n",
       "  'pid': 'p0',\n",
       "  'query_label': '生活没有希望的感觉，消极，不知道自己想要什么，想干什么，甚至不知道想吃什么。失去了生活的乐趣。我觉得生活没有意思。累，什么也不想做。这是怎么了',\n",
       "  'passage': '我今年19岁，还在读书，父母感情不好，妈妈在外打工，妈妈最近打电话给我们老是哭，我不知道怎么安慰她，因为弟弟不读书，而难过，而且以前妈妈在我们很小的时候身体也不是很好，怕妈妈这样下去对身体不好!希望您能够给些建议',\n",
       "  'score': 0.4194364547729492},\n",
       " {'rank': 5,\n",
       "  'qid': 'q0',\n",
       "  'pid': 'p0',\n",
       "  'query_label': '老公出轨了，原谅了他！可是我心里难受，不知道自己应该怎么办，对老公怎么办，对小三怎么办',\n",
       "  'passage': '经营婚姻情感是一门学问，需要用心也需要智慧，否则容易出现各种矛盾和问题。如果需要深入系统的咨询辅导，可以点击我的头像预约正式咨询，以便我们更好的帮您。你只考虑对老公怎么办就可以，对小三怎么办不是你考虑的问题',\n",
       "  'score': 0.40949517488479614},\n",
       " {'rank': 6,\n",
       "  'qid': 'q0',\n",
       "  'pid': 'p0',\n",
       "  'query_label': '不知道心里在想什么，不知道怎么去喜欢一个人，不知道如何去跟人交流，不知道自己干什么，怎么做才好，怎么去融入？？一样哪该怎么办？能先聊下不心里没底哪如何爱自己？我也知道不会很快，但能不能提供现阶段的一些建议如何收费？',\n",
       "  'passage': '从你的文字看，你应该对自己没有一个整体的认识。自我评价降低，缺乏自我意识，所以我们不知道怎么跟人交往？不知道自己喜欢什么，不知道自己擅长什么，无法知道自己的目标。因为我们自己就是不爱自己，所以没有办法和能力去爱别人啊！',\n",
       "  'score': 0.3897644281387329},\n",
       " {'rank': 7,\n",
       "  'qid': 'q0',\n",
       "  'pid': 'p0',\n",
       "  'query_label': '我和我男朋友他见我爸妈了我也叫他父母了。就是双方父母还没碰面。怕他们不同意咋办阿那直接让他们见面可以吗现实是啥万一不同意呢。。。。好的谢谢',\n",
       "  'passage': '我在外地谈了个男朋友，可是我家人不同意还要30万这怎么可能呢，他们那边最高的才三万多，我爸很厉害我要是回去了给我爸说了我肯定被打死的，我怎么办我男朋友很爱很爱我，他都想过离家出走可他爸妈怎么办养了他22年说离开就离开吗，我很害怕我爸，过年回去说我怕说不同，没人帮我我怎么办呀。唉，，，，',\n",
       "  'score': 0.3841762840747833},\n",
       " {'rank': 8,\n",
       "  'qid': 'q0',\n",
       "  'pid': 'p0',\n",
       "  'query_label': '怎么克服体检时候的紧张心理。一紧张做心电图心率就快。自己去做了好几次都在八十多就去体检的时候这样，自己去查都不这样',\n",
       "  'passage': '我姐妹四个。我老三。十九岁那年。父母包办婚姻。嫁给了比我大四岁的人。他倒插门我们家。止今有十二年了！我们性格完全不合。沟通特别困难。生气打架很正常。离婚的念头从来没消失过。可我现在有两个儿子。我该怎么办。我不甘心就这样过我的下半辈子。',\n",
       "  'score': 0.35703280568122864},\n",
       " {'rank': 9,\n",
       "  'qid': 'q0',\n",
       "  'pid': 'p0',\n",
       "  'query_label': '今年初三 不想读书了 准备不读完初中去打工。 这样好吗 真的不想读了成绩不好  读书也浪费钱  现在一个月工资5700还是可以的  同事也让我不读了对啊  我成绩夜不好   这样读书也浪费钱可是成绩差这个是我的遗憾今年17了  听您这么一说  可是又怕  把初中读完吧  读不上高中',\n",
       "  'passage': '我之前也是这样。读书很差，但是，现在这个社会，文化很重要。所以我坚持了下来。你想想啊，如果你没文化，长大就娶不到美丽的老婆咯，没文化，怎么样获得个优秀的老婆呢？就算这样，现在社会文化很重要，假如做买卖，你会计算吗....',\n",
       "  'score': 0.29797255992889404}]"
      ]
     },
     "metadata": {},
     "execution_count": 130
    }
   ],
   "metadata": {}
  },
  {
   "cell_type": "code",
   "execution_count": null,
   "source": [],
   "outputs": [],
   "metadata": {}
  },
  {
   "cell_type": "code",
   "execution_count": null,
   "source": [],
   "outputs": [],
   "metadata": {}
  }
 ],
 "metadata": {
  "orig_nbformat": 4,
  "language_info": {
   "name": "python",
   "version": "3.8.8",
   "mimetype": "text/x-python",
   "codemirror_mode": {
    "name": "ipython",
    "version": 3
   },
   "pygments_lexer": "ipython3",
   "nbconvert_exporter": "python",
   "file_extension": ".py"
  },
  "kernelspec": {
   "name": "python3",
   "display_name": "Python 3.8.8 64-bit ('base': conda)"
  },
  "interpreter": {
   "hash": "4b554b9bc7a45af9cb7affa56da8832edb06301fe4a315ecc0fd56b47822af07"
  }
 },
 "nbformat": 4,
 "nbformat_minor": 2
}