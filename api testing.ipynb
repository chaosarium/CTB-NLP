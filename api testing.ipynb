{
 "cells": [
  {
   "cell_type": "code",
   "execution_count": 1,
   "source": [
    "import requests\n",
    "\n",
    "url = \"http://127.0.0.1:6002/search-api?queryInputBox=随便进儿子房间怎么了吗？&reqType=json\"\n",
    "\n",
    "payload={}\n",
    "headers = {}\n",
    "\n",
    "response = requests.request(\"GET\", url, headers=headers, data=payload)\n",
    "\n",
    "print(response.text)"
   ],
   "outputs": [
    {
     "output_type": "stream",
     "name": "stdout",
     "text": [
      "{\"search_session_id\": 28, \"query_input\": \"\\u968f\\u4fbf\\u8fdb\\u513f\\u5b50\\u623f\\u95f4\\u600e\\u4e48\\u4e86\\u5417\\uff1f\", \"table\": [{\"rank\": 0, \"qid\": \"q407\", \"q_label\": \"\\u968f\\u610f\\u8fdb\\u5165\\u5b69\\u5b50\\u623f\\u95f4\\u6709\\u95ee\\u9898\\u5417\\uff1f\", \"alt_qid\": null, \"alt_q_label\": null, \"pid\": \"p259\", \"passage\": \"\\u53d7\\u8bbf\\u768417\\u540d\\u7537\\u751f\\u4e2d\\uff0c4\\u540d\\u7537\\u751f\\u62a5\\u544a\\u5728\\u5c0f\\u5b66\\u4e4b\\u524d\\u5c31\\u5df1\\u7ecf\\u4e0e\\u7236\\u6bcd\\u5206\\u5f00\\u7761\\uff0c\\u5e76\\u6709\\u4e86\\u81ea\\u5df1\\u72ec\\u7acb\\u7684\\u623f\\u95f4\\uff1b\\u670912\\u540d\\u7537\\u751f\\u5ef6\\u8fdf\\u5230\\u5c0f\\u5b66\\u65f6\\u4e0e\\u7236\\u6bcd\\u5206\\u623f\\uff1b\\u53ea\\u67091\\u540d\\u7537\\u751f\\u62a5\\u544a\\u81f3\\u4eca\\u4ecd\\u7136\\u7ecf\\u5e38\\u4e0e\\u6bcd\\u4eb2\\u540c\\u5e8a\\uff0c\\u7406\\u7531\\u662f\\u56e0\\u7236\\u4eb2\\u6253\\u547c\\u800c\\u5f71\\u54cd\\u6bcd\\u4eb2\\u7684\\u7761\\u7720\\uff1b\\u67094\\u540d\\u7537\\u751f\\u62a5\\u544a\\u81ea\\u5df1\\u5728\\u623f\\u95f4\\u662f\\u5076\\u5c14\\u9700\\u8981\\u4e0e\\u7236/\\u6bcd\\u4eb2\\u5171\\u7528\\u7684\\uff0c\\u67093\\u540d\\u7684\\u7537\\u9ad8\\u4e2d\\u751f\\u62a5\\u544a\\u8bf4\\u201c\\u53ea\\u6709\\u5e8a\\u662f\\u6211\\u81ea\\u5df1\\u7684\\u201d\\uff0c\\u201c\\u4ed6\\u603b\\u662f\\u9700\\u8981\\u4e0e\\u6211\\u5171\\u7528\\u4e00\\u4e2a\\u623f\\u95f4\\u201d\\uff0c\\u201c\\u4ed6\\u968f\\u65f6\\u8fdb\\u6211\\u7684\\u623f\\u95f4\\uff0c\\u4e5f\\u4e0d\\u6572\\u95e8\\u201d\\uff1b\\u670910\\u540d\\u7537\\u751f\\u4f1a\\u62a5\\u544a\\u8bf4\\u201c\\u7236\\u6bcd\\u4f1a\\u7ecf\\u5e38\\u53c2\\u4e0e\\u5230\\u623f\\u95f4\\u5185\\u7269\\u54c1\\u7684\\u6446\\u653e\\uff0c\\u623f\\u95f4\\u5185\\u7684\\u6253\\u626b\\u7b49\\u4e8b\\u52a1\\u201d\\u3002\", \"citation\": \"\\u845b\\u8679\\u5b87. \\u9ad8\\u4e2d\\u751f\\u4eb2\\u5b50\\u5fc3\\u7406\\u8fb9\\u754c\\u7684\\u8c03\\u67e5\\u7814\\u7a76[D].\\u54c8\\u5c14\\u6ee8\\u5e08\\u8303\\u5927\\u5b66,2050\", \"score\": 0.7501502633094788}, {\"rank\": 1, \"qid\": \"q385\", \"q_label\": \"\\u660e\\u786e\\u7684\\u4eb2\\u5b50\\u754c\\u9650\\u662f\\u600e\\u4e48\\u6837\\u7684\\uff1f\", \"alt_qid\": null, \"alt_q_label\": null, \"pid\": \"p237\", \"passage\": \"\\u5979\\u5927\\u7ea6\\u57283\\u5e74\\u7ea7\\u7684\\u65f6\\u5019\\u4fbf\\u5f00\\u59cb\\u4e00\\u4e2a\\u4eba\\u7761\\uff08\\u4e66\\u623f\\uff09\\uff0c\\u521d\\u4e2d\\u4e00\\u5e74\\u7ea7\\u65f6\\u6709\\u4e86\\u5b8c\\u5168\\u5c5e\\u4e8e\\u81ea\\u5df1\\u7684\\u623f\\u95f4\\uff0c\\u7236\\u6bcd\\u8fdb\\u5230\\u623f\\u95f4\\u4e4b\\u524d\\u4f1a\\u5148\\u6572\\u95e8\\uff0c\\u4f46\\u4e00\\u822c\\u4f1a\\u5728\\u5916\\u8fb9\\u558a\\uff0c\\u53eb\\u5979\\u51fa\\u6765\\uff0c\\u623f\\u95f4\\u5185\\u536b\\u751f\\u9700\\u8981\\u5979\\u81ea\\u5df1\\u6253\\u626b\\uff0c\\u7238\\u7238\\u4f1a\\u63d0\\u4f9b\\u62d6\\u5730\\u7684\\u5e2e\\u52a9\\u3002\\u201c\\u4ece\\u5c0f\\u5230\\u5927\\u6ca1\\u6709\\u611f\\u89c9\\u53d7\\u5230\\u4fb5\\u72af\\u201d\\uff0c\\u5f53\\u5411\\u6bcd\\u4eb2\\u63d0\\u51fa\\u9700\\u6c42\\uff08\\u5bf9\\u7a7f\\u8863\\u54c1\\u5473\\u7684\\u5ba1\\u7f8e\\u652f\\u6301\\uff09\\u65f6\\uff0c\\u6bcd\\u4eb2\\u4e5f\\u53ef\\u4ee5\\u53ca\\u540b\\u7684\\u4e3a\\u5176\\u63d0\\u4f9b\\u5e2e\\u52a9\\u3002\\u201c\\u59e5\\u59e5\\u59e5\\u7237\\u4e5f\\u4f1a\\u5c0a\\u91cd\\u6211\\u7684\\u9009\\u62e9\\u201d\\uff0c\\u5728\\u529b\\u6240\\u80fd\\u53ca\\u7684\\u60c5\\u51b5\\u4e0b\\uff0c\\u5c3d\\u91cf\\u4f7f\\u6211\\u6ee1\\u8db3\\u3002\", \"citation\": \"\\u845b\\u8679\\u5b87. \\u9ad8\\u4e2d\\u751f\\u4eb2\\u5b50\\u5fc3\\u7406\\u8fb9\\u754c\\u7684\\u8c03\\u67e5\\u7814\\u7a76[D].\\u54c8\\u5c14\\u6ee8\\u5e08\\u8303\\u5927\\u5b66,2028\", \"score\": 0.6064828038215637}]}\n"
     ]
    }
   ],
   "metadata": {}
  },
  {
   "cell_type": "code",
   "execution_count": null,
   "source": [],
   "outputs": [],
   "metadata": {}
  }
 ],
 "metadata": {
  "orig_nbformat": 4,
  "language_info": {
   "name": "python",
   "version": "3.8.8",
   "mimetype": "text/x-python",
   "codemirror_mode": {
    "name": "ipython",
    "version": 3
   },
   "pygments_lexer": "ipython3",
   "nbconvert_exporter": "python",
   "file_extension": ".py"
  },
  "kernelspec": {
   "name": "python3",
   "display_name": "Python 3.8.8 64-bit ('base': conda)"
  },
  "interpreter": {
   "hash": "4b554b9bc7a45af9cb7affa56da8832edb06301fe4a315ecc0fd56b47822af07"
  }
 },
 "nbformat": 4,
 "nbformat_minor": 2
}