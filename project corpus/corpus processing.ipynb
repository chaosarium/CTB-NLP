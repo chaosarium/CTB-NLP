{
 "cells": [
  {
   "cell_type": "markdown",
   "source": [
    " # Clean data"
   ],
   "metadata": {}
  },
  {
   "cell_type": "code",
   "execution_count": 2,
   "source": [
    "import pandas as pd\n",
    "import re\n",
    "from pprint import pprint\n",
    "SOURCE_DATA_FILE = \"Numbers to parsing.tsv\""
   ],
   "outputs": [],
   "metadata": {}
  },
  {
   "cell_type": "code",
   "execution_count": 3,
   "source": [
    "source_table = pd.read_csv(SOURCE_DATA_FILE, sep='\\t')"
   ],
   "outputs": [],
   "metadata": {}
  },
  {
   "cell_type": "code",
   "execution_count": 4,
   "source": [
    "source_table.head(5)"
   ],
   "outputs": [
    {
     "output_type": "execute_result",
     "data": {
      "text/plain": [
       "                 query            alternative query  \\\n",
       "0        踢猫效应在直面上如何体现？                 踢猫效应最初指的是什么？   \n",
       "1             解释一下踢猫效应                          NaN   \n",
       "2       踢猫效应会带来什么连锁反应？                          NaN   \n",
       "3     根据踢猫效应，踢猫会带来什么后果               踢猫又可能带来的结果有哪些？   \n",
       "4  不踢猫的话，可以更好地发泄负面情绪吗？  有在被人身上发泄情绪的冲动时候可以如何更好的解决问题？   \n",
       "\n",
       "                                        main passage  \\\n",
       "0  一位父亲的同事耽误了他很多 时间，影响了他当天工作的完成。想 着明天要挨上司的责骂，他一肚子...   \n",
       "1  个体会对 弱于自己或者等级低于自己的对象 发泄不满情绪，而产生坏情绪传染 的连锁反应。但是这...   \n",
       "2  假如这只猫对我们不重要，而 且它选择了反抗，我们很有可能和 它陷入战争。人踢了猫一下，猫也会...   \n",
       "3  假如这只猫对我们不重要，而 且它选择了隐忍，这是最好的情况， 它默默地承受了你的坏心情，没有...   \n",
       "4  当然是可以的，但是并非简单 粗暴地把猫一脚踢开。我们的家人、 朋友、同事、同学都可以成为这只...   \n",
       "\n",
       "                                          citation  \n",
       "0  李秋生,王小文. 踢猫效应与情绪传递[J]. 大众心理学,2016(10):41-42. \\n  \n",
       "1  李秋生,王小文. 踢猫效应与情绪传递[J]. 大众心理学,2016(10):41-42. \\n  \n",
       "2  李秋生,王小文. 踢猫效应与情绪传递[J]. 大众心理学,2016(10):41-42. \\n  \n",
       "3  李秋生,王小文. 踢猫效应与情绪传递[J]. 大众心理学,2016(10):41-42. \\n  \n",
       "4  李秋生,王小文. 踢猫效应与情绪传递[J]. 大众心理学,2016(10):41-42. \\n  "
      ],
      "text/html": [
       "<div>\n",
       "<style scoped>\n",
       "    .dataframe tbody tr th:only-of-type {\n",
       "        vertical-align: middle;\n",
       "    }\n",
       "\n",
       "    .dataframe tbody tr th {\n",
       "        vertical-align: top;\n",
       "    }\n",
       "\n",
       "    .dataframe thead th {\n",
       "        text-align: right;\n",
       "    }\n",
       "</style>\n",
       "<table border=\"1\" class=\"dataframe\">\n",
       "  <thead>\n",
       "    <tr style=\"text-align: right;\">\n",
       "      <th></th>\n",
       "      <th>query</th>\n",
       "      <th>alternative query</th>\n",
       "      <th>main passage</th>\n",
       "      <th>citation</th>\n",
       "    </tr>\n",
       "  </thead>\n",
       "  <tbody>\n",
       "    <tr>\n",
       "      <th>0</th>\n",
       "      <td>踢猫效应在直面上如何体现？</td>\n",
       "      <td>踢猫效应最初指的是什么？</td>\n",
       "      <td>一位父亲的同事耽误了他很多 时间，影响了他当天工作的完成。想 着明天要挨上司的责骂，他一肚子...</td>\n",
       "      <td>李秋生,王小文. 踢猫效应与情绪传递[J]. 大众心理学,2016(10):41-42. \\n</td>\n",
       "    </tr>\n",
       "    <tr>\n",
       "      <th>1</th>\n",
       "      <td>解释一下踢猫效应</td>\n",
       "      <td>NaN</td>\n",
       "      <td>个体会对 弱于自己或者等级低于自己的对象 发泄不满情绪，而产生坏情绪传染 的连锁反应。但是这...</td>\n",
       "      <td>李秋生,王小文. 踢猫效应与情绪传递[J]. 大众心理学,2016(10):41-42. \\n</td>\n",
       "    </tr>\n",
       "    <tr>\n",
       "      <th>2</th>\n",
       "      <td>踢猫效应会带来什么连锁反应？</td>\n",
       "      <td>NaN</td>\n",
       "      <td>假如这只猫对我们不重要，而 且它选择了反抗，我们很有可能和 它陷入战争。人踢了猫一下，猫也会...</td>\n",
       "      <td>李秋生,王小文. 踢猫效应与情绪传递[J]. 大众心理学,2016(10):41-42. \\n</td>\n",
       "    </tr>\n",
       "    <tr>\n",
       "      <th>3</th>\n",
       "      <td>根据踢猫效应，踢猫会带来什么后果</td>\n",
       "      <td>踢猫又可能带来的结果有哪些？</td>\n",
       "      <td>假如这只猫对我们不重要，而 且它选择了隐忍，这是最好的情况， 它默默地承受了你的坏心情，没有...</td>\n",
       "      <td>李秋生,王小文. 踢猫效应与情绪传递[J]. 大众心理学,2016(10):41-42. \\n</td>\n",
       "    </tr>\n",
       "    <tr>\n",
       "      <th>4</th>\n",
       "      <td>不踢猫的话，可以更好地发泄负面情绪吗？</td>\n",
       "      <td>有在被人身上发泄情绪的冲动时候可以如何更好的解决问题？</td>\n",
       "      <td>当然是可以的，但是并非简单 粗暴地把猫一脚踢开。我们的家人、 朋友、同事、同学都可以成为这只...</td>\n",
       "      <td>李秋生,王小文. 踢猫效应与情绪传递[J]. 大众心理学,2016(10):41-42. \\n</td>\n",
       "    </tr>\n",
       "  </tbody>\n",
       "</table>\n",
       "</div>"
      ]
     },
     "metadata": {},
     "execution_count": 4
    }
   ],
   "metadata": {}
  },
  {
   "cell_type": "code",
   "execution_count": 5,
   "source": [
    "# define some stuff for storing queries, passages, and relevance marking\n",
    "queries = {} # dictionary of 'qid': 'query', ...\n",
    "passages = {} # dictionary of 'pid': 'passage', ...\n",
    "citations = {} # dictionary of 'pid': 'citation', ...\n",
    "matches = [] # dictionary of matching passages entries {'qid': qid, 'pid': pid}\n",
    "es_df = pd.DataFrame() # this is the table for elastic search index\n",
    "\n",
    "# numbering counters\n",
    "qid_counter = 1\n",
    "pid_counter = 1\n",
    "\n",
    "for row in source_table.iterrows():\n",
    "\n",
    "    row_index = row[0]\n",
    "    row_content = row[1]\n",
    "    query = str(row_content['query'])\n",
    "    alt_query = str(row_content['alternative query'])\n",
    "    passage = str(row_content['main passage'])\n",
    "    citation = str(row_content['citation'])\n",
    "\n",
    "\n",
    "    # trim unnecessary spaces and tabs\n",
    "    query = query.strip()\n",
    "    alt_query = alt_query.strip()\n",
    "    passage = passage.strip()\n",
    "    citation = citation.strip()\n",
    "\n",
    "    # trim [] from citation\n",
    "    citation = re.sub(r'\\[\\d\\]', '', citation)\n",
    "\n",
    "    # strip space in chinese\n",
    "    passage = re.sub(r' ', '', passage)\n",
    "    # fix unwanted new lines in chinese\n",
    "    passage = re.sub(r'(?<![。？！])\\n', '', passage)\n",
    "    # strip numbering at passage beginning\n",
    "    passage = re.sub(r'^(\\d\\.)', '', passage)\n",
    "\n",
    "    # store the entry in dic and record match\n",
    "    qid = 'q' + str(qid_counter)\n",
    "    pid = 'p' + str(pid_counter)\n",
    "    queries[qid] = query\n",
    "    passages[pid] = passage\n",
    "    citations[pid] = citation\n",
    "    matches.append({'qid': qid, 'pid': pid})\n",
    "    qid_counter += 1\n",
    "    pid_counter += 1\n",
    "\n",
    "    if alt_query != \"nan\":\n",
    "        # there is an alt query, make extra query\n",
    "        qid = 'q' + str(qid_counter)\n",
    "        queries[qid] = alt_query\n",
    "        matches.append({'qid': qid, 'pid': pid})\n",
    "        qid_counter += 1\n",
    "        es_df = es_df.append({'qid': 'q' + str(qid_counter - 2), 'pid': pid, 'query': query, 'passage': passage, 'alt_query': alt_query, 'alt_qid': qid, 'citation': citation}, ignore_index=True)\n",
    "    else:\n",
    "        alt_query = None\n",
    "        es_df = es_df.append({'qid': qid, 'pid': pid, 'query': query, 'passage': passage, 'alt_query': None, 'alt_qid': None, 'citation': citation}, ignore_index=True)"
   ],
   "outputs": [],
   "metadata": {}
  },
  {
   "cell_type": "code",
   "execution_count": 6,
   "source": [
    "es_df = es_df[['qid', 'query', 'alt_qid', 'alt_query', 'pid', 'passage', 'citation']]"
   ],
   "outputs": [],
   "metadata": {}
  },
  {
   "cell_type": "code",
   "execution_count": 7,
   "source": [
    "es_df.sample(30)"
   ],
   "outputs": [
    {
     "output_type": "execute_result",
     "data": {
      "text/plain": [
       "      qid                     query alt_qid                        alt_query  \\\n",
       "42    q63               年级上的差异和亲子沟通     q64                   年级上的差异如何影响亲子沟通   \n",
       "258  q407             随意进入孩子房间有问题吗？    None                             None   \n",
       "101  q154                亲子沟通的类型有哪些    q155                      有几种类型的亲子沟通？   \n",
       "245  q394            侵入个人隐私范围是怎么样的？    None                             None   \n",
       "247  q396               情绪外溢的问题有什么？    None                             None   \n",
       "221  q370           亲子沟通不当是一方面的错误吗？    None                             None   \n",
       "172  q287           家庭结构会对亲子沟通有影响吗？    q288             亲子沟通中家庭结构会带来不一样的沟通吗？   \n",
       "158  q259              学术上对于青春期的研究。    q260                      青春期可能带来的困扰。   \n",
       "263  q412               用钱胁迫孩子是好的吗？    None                             None   \n",
       "2      q4            踢猫效应会带来什么连锁反应？    None                             None   \n",
       "9     q14          亲子沟通和孩子完美主义人格的关联     q15                   孩子的完美主义是怎么产生的？   \n",
       "116  q179            性别会影响青少年心理健康吗？    q180                   男女生心理健康的差别有哪些？   \n",
       "251  q400             掌控家庭的感觉是怎么样的？    None                             None   \n",
       "145  q233  父母为了改善亲子关系在行为方面有哪些正确的做法？    q234            父母为了改善亲子关系在行为方面该做些什么？   \n",
       "99   q151          改进和增进亲子关系的建议有哪些？    q152                        怎样增进亲子关系？   \n",
       "15    q23          性别会影响孩子与父母的沟通频率嘛    None                             None   \n",
       "79   q121                亲子沟通的概念是什么    q122                        早起的亲子沟通概念   \n",
       "178  q299           青少年的学业和成就动机有关吗？    q300                成就动机是如何影响青少年的学业的？   \n",
       "34    q49                亲自沟通模式的种类2    None                             None   \n",
       "108  q167                  什么是家庭功能？    q168                      家庭功能的定义是什么？   \n",
       "187  q317  给学校用来提升亲子沟通质量的对策及建议（活动篇）    q318             给学校的建议去提升亲子沟通质量（活动篇）   \n",
       "120  q186        亲子信任危机的后果有哪些（挫折心理）    None                             None   \n",
       "194  q331            为什么会导致不好的亲子沟通？    q332                 什么原因会使亲子沟通变得不良好？   \n",
       "202  q345            孩子缺乏沟通会引起哪些问题？    q346                     孩子和我不沟通有问题吗？   \n",
       "261  q410      家长对性方面的指导缺乏的体现是怎么样的？    None                             None   \n",
       "56    q88               离异对孩子的影响有哪些    None                             None   \n",
       "60    q93           为什么单亲父母不能过度保护孩子     q94                    单亲家长过度保护孩子的后果   \n",
       "41    q61            亲子沟通对孩子坚韧人格的影响     q62                  亲子沟通如何影响孩子的坚韧人格   \n",
       "26    q38           家长应该如何培养孩子的独立习惯    None                             None   \n",
       "127  q197    怎样能避免因为过激的情绪而做出的不正当行为？    q198  在过于激动的情绪下，如何让自己冷静下来，避免进一步矛盾严重化？   \n",
       "\n",
       "      pid                                            passage  \\\n",
       "42    p43  初中生亲子沟通总分及其各维度在学生年级上均存在显著差异，而且初一学生在总得分上要显著高于初二...   \n",
       "258  p259  受访的17名男生中，4名男生报告在小学之前就己经与父母分开睡，并有了自己独立的房间；有12名...   \n",
       "101  p102  根据父母与青少年之间的沟通存在的一种稳定的方式和倾向,Mcleod提出了划分亲子沟通类型的两...   \n",
       "245  p246  “她还是要求我把门开着，吋不时来看我的情况，手机、微信、QQ的密码她都要求知道，啥都干涉。她...   \n",
       "247  p248  唠叨是奶奶最大的特点，对于身边的所有人，她似乎都不满意，她需要通过不断抱怨的方式与身边的所有...   \n",
       "221  p222  家庭系统理论认为，亲子冲突是一个多人系统的问题，而不是父母或子女单方面的问题。亲子冲突的来源...   \n",
       "172  p173  家庭结构和亲子沟通质量密切相关。核心家庭比单亲家庭的亲子沟通质量要好（Sandy,1998）...   \n",
       "158  p159  青春期的孩子已不像儿童期那样对父母顺从、无话不谈，国外有学者称少年期为亲子关系的危机期。在这...   \n",
       "263  p264  我国作为农业大国，这种不分化的家庭结构受生存环境、资源缺乏等现实因素限制，因为并不富饶的生存...   \n",
       "2      p3  假如这只猫对我们不重要，而且它选择了反抗，我们很有可能和它陷入战争。人踢了猫一下，猫也会扑上...   \n",
       "9     p10  研究发现许多成长因素都会或多或少的影响青少年的完美主义倾向，比如亲子沟通的方法、家庭环境、亲...   \n",
       "116  p117  在抑郁、焦虑及心理不平衡方面存在显著的性别差异，女生在抑郁和焦虑水平上比男生要高，而男生表现...   \n",
       "251  p252  父亲的边界是清晰而僵硬的，这种强硬不但在与儿子的互动中，同时也体现在与妻子的互动中。父亲掌控...   \n",
       "145  p146  学会倾听和“闭嘴”很多父母都不会倾听孩子，经常说教和唠叨。而孩子最讨厌的莫过于被唠叨，尤其是...   \n",
       "99   p100  为母亲提供具有针对性的家庭教育教材和课程。母亲在家庭教育中占有重要地位，但是在调查问卷中，很...   \n",
       "15    p16  在与父母的沟通中男孩子更加被动，相对来说，女孩子与父母的交流更多。我认为这种结果的产生可能和...   \n",
       "79    p80  Barnes（1985）最早提出亲子沟通的定义，他认为亲子沟通是指亲子之间通过沟通的途径来表...   \n",
       "178  p179  成就动机对学业成绩影响显著，高成就动机者具有较好的学业成绩，低成就动机者学业成绩较低（刘志华...   \n",
       "34    p35  Mcleod和Chaffee认为亲子之间的沟通存在稳定的倾向和模式，并据此提出了划分亲子沟通...   \n",
       "108  p109  家庭功能是家庭系统中家庭成员之间情感联系、家庭规则、家庭沟通以及应对外部事件的有效性。家庭成...   \n",
       "187  p188  增加亲子活动，增进亲子感情。在游戏与活动中，亲子之间并不需要太多的语言就会让爱自然流动起来。...   \n",
       "120  p121  由于亲子间信任的下降，亲子矛盾、亲自冲突随之愈演愈烈，青春期的孩子又处在建立自我同一性的关键...   \n",
       "194  p195  沟通关注少，父母没时间沟通主客观因素的阻碍，会使亲子间沟通缺失。一方面，父母主观上没有意识到...   \n",
       "202  p203  子女与父母发生不愉快的情况后，会出现愤怒、低落、压抑等负性情绪，没有良好的心理状态，即使和家...   \n",
       "261  p262  ，他们通过延迟孩子正常生理、心理需要的方式，去回避自己担心和焦虑的话题。而在调查中，笔者发现...   \n",
       "56    p57  家庭结构缺失对女的教育成长影响，国内外学者研究侧重点有所不同。国内学者将研究重心放在离异对家...   \n",
       "60    p61  极度缺乏耐心与温暖的严厉教养方式则容易导致子女产生抑郁或躁郁心理疾病[2]。因此，家长情感不...   \n",
       "41    p42  何洁（2014）的研究表明，大学生父母教养方式中的父亲情感温暖、母亲情感温暖两个维度和坚韧性...   \n",
       "26    p27  很多家长在教育孩子的过程中，一方面要求孩子对待学习和生活中的问题要自己想办法解决；另一方面却...   \n",
       "127  p128  说完以后，她的情绪逐渐平静下来。随后我告诉她，自己才是情绪的主人，一套叫“威廉姆斯生活技能训...   \n",
       "\n",
       "                                              citation  \n",
       "42               魏美丹. 初中生亲子沟通与生活满意度的关系[D].福建师范大学,2019.  \n",
       "258                葛虹宇. 高中生亲子心理边界的调查研究[D].哈尔滨师范大学,2050  \n",
       "101                  胡悦. 亲子沟通与青少年健康成长[D].哈尔滨工程大学,2007.  \n",
       "245                葛虹宇. 高中生亲子心理边界的调查研究[D].哈尔滨师范大学,2037  \n",
       "247                葛虹宇. 高中生亲子心理边界的调查研究[D].哈尔滨师范大学,2039  \n",
       "221  郭学东.疫情防控期间家庭亲子冲突成因及对策初探[J].教育实践与研究(C),2020(05)...  \n",
       "172          李玲. 初中生亲子沟通、成就动机及其团体辅导的研究 [D]. 西南大学. 2037  \n",
       "158          李玲. 初中生亲子沟通、成就动机及其团体辅导的研究 [D]. 西南大学. 2023  \n",
       "263                葛虹宇. 高中生亲子心理边界的调查研究[D].哈尔滨师范大学,2055  \n",
       "2         李秋生,王小文. 踢猫效应与情绪传递[J]. 大众心理学,2016(10):41-42.  \n",
       "9    李晓飞. 初中生亲子沟通与社会适应的关系研究：完美主义和基本心理需要的中介作用[D].河北师...  \n",
       "116      王春惠. 初中生亲子冲突处理策略对心理健康的影响及干预研究[D].曲阜师范大学,2020.  \n",
       "251                葛虹宇. 高中生亲子心理边界的调查研究[D].哈尔滨师范大学,2043  \n",
       "145      任彦霞. 三步搞定与青春期孩子的沟通难题[J]. 中小学心理健康教育. 2021 (22)  \n",
       "99   不做焦虑父母，从良好亲子关系开始——疫情期间亲子关系状况调查报告[J].教育家,2021(2...  \n",
       "15      李维双. 亲子沟通对高中生心理健康的影响：情绪表达的中介作用[D].天津师范大学,2021.  \n",
       "79         姬莉. 青少年亲子沟通、自我控制与冒险行为的关系及教育对策[D].河南大学,2020.  \n",
       "178          李玲. 初中生亲子沟通、成就动机及其团体辅导的研究 [D]. 西南大学. 2043  \n",
       "34               魏美丹. 初中生亲子沟通与生活满意度的关系[D].福建师范大学,2019.  \n",
       "108                  胡悦. 亲子沟通与青少年健康成长[D].哈尔滨工程大学,2007.  \n",
       "187          李玲. 初中生亲子沟通、成就动机及其团体辅导的研究 [D]. 西南大学. 2052  \n",
       "120    冯小航.青春期亲子信任危机成因及对策[J].科技资讯,2021,19(13):252-256.  \n",
       "194         郭彦华. 家庭教育中的亲子沟通问题与反思 [J]. 婚姻家庭. 2021 (341)  \n",
       "202               马明洋.亲子沟通的技巧[J].心理与健康,2020(06):70-71.  \n",
       "261                葛虹宇. 高中生亲子心理边界的调查研究[D].哈尔滨师范大学,2053  \n",
       "56            张晓夕. 单亲家庭亲子沟通能力提升的小组工作干预研究[D].西北大学,2021.  \n",
       "60            张晓夕. 单亲家庭亲子沟通能力提升的小组工作干预研究[D].西北大学,2021.  \n",
       "41               魏美丹. 初中生亲子沟通与生活满意度的关系[D].福建师范大学,2019.  \n",
       "26              莫申杰. 亲子关系对初中生学习习惯的影响研究[D].湖南农业大学,2020.  \n",
       "127  李曉娟. 非暴力溝通：架起親子溝通“彩虹橋”[N]. 健康報. 2021-06-01 (006).  "
      ],
      "text/html": [
       "<div>\n",
       "<style scoped>\n",
       "    .dataframe tbody tr th:only-of-type {\n",
       "        vertical-align: middle;\n",
       "    }\n",
       "\n",
       "    .dataframe tbody tr th {\n",
       "        vertical-align: top;\n",
       "    }\n",
       "\n",
       "    .dataframe thead th {\n",
       "        text-align: right;\n",
       "    }\n",
       "</style>\n",
       "<table border=\"1\" class=\"dataframe\">\n",
       "  <thead>\n",
       "    <tr style=\"text-align: right;\">\n",
       "      <th></th>\n",
       "      <th>qid</th>\n",
       "      <th>query</th>\n",
       "      <th>alt_qid</th>\n",
       "      <th>alt_query</th>\n",
       "      <th>pid</th>\n",
       "      <th>passage</th>\n",
       "      <th>citation</th>\n",
       "    </tr>\n",
       "  </thead>\n",
       "  <tbody>\n",
       "    <tr>\n",
       "      <th>42</th>\n",
       "      <td>q63</td>\n",
       "      <td>年级上的差异和亲子沟通</td>\n",
       "      <td>q64</td>\n",
       "      <td>年级上的差异如何影响亲子沟通</td>\n",
       "      <td>p43</td>\n",
       "      <td>初中生亲子沟通总分及其各维度在学生年级上均存在显著差异，而且初一学生在总得分上要显著高于初二...</td>\n",
       "      <td>魏美丹. 初中生亲子沟通与生活满意度的关系[D].福建师范大学,2019.</td>\n",
       "    </tr>\n",
       "    <tr>\n",
       "      <th>258</th>\n",
       "      <td>q407</td>\n",
       "      <td>随意进入孩子房间有问题吗？</td>\n",
       "      <td>None</td>\n",
       "      <td>None</td>\n",
       "      <td>p259</td>\n",
       "      <td>受访的17名男生中，4名男生报告在小学之前就己经与父母分开睡，并有了自己独立的房间；有12名...</td>\n",
       "      <td>葛虹宇. 高中生亲子心理边界的调查研究[D].哈尔滨师范大学,2050</td>\n",
       "    </tr>\n",
       "    <tr>\n",
       "      <th>101</th>\n",
       "      <td>q154</td>\n",
       "      <td>亲子沟通的类型有哪些</td>\n",
       "      <td>q155</td>\n",
       "      <td>有几种类型的亲子沟通？</td>\n",
       "      <td>p102</td>\n",
       "      <td>根据父母与青少年之间的沟通存在的一种稳定的方式和倾向,Mcleod提出了划分亲子沟通类型的两...</td>\n",
       "      <td>胡悦. 亲子沟通与青少年健康成长[D].哈尔滨工程大学,2007.</td>\n",
       "    </tr>\n",
       "    <tr>\n",
       "      <th>245</th>\n",
       "      <td>q394</td>\n",
       "      <td>侵入个人隐私范围是怎么样的？</td>\n",
       "      <td>None</td>\n",
       "      <td>None</td>\n",
       "      <td>p246</td>\n",
       "      <td>“她还是要求我把门开着，吋不时来看我的情况，手机、微信、QQ的密码她都要求知道，啥都干涉。她...</td>\n",
       "      <td>葛虹宇. 高中生亲子心理边界的调查研究[D].哈尔滨师范大学,2037</td>\n",
       "    </tr>\n",
       "    <tr>\n",
       "      <th>247</th>\n",
       "      <td>q396</td>\n",
       "      <td>情绪外溢的问题有什么？</td>\n",
       "      <td>None</td>\n",
       "      <td>None</td>\n",
       "      <td>p248</td>\n",
       "      <td>唠叨是奶奶最大的特点，对于身边的所有人，她似乎都不满意，她需要通过不断抱怨的方式与身边的所有...</td>\n",
       "      <td>葛虹宇. 高中生亲子心理边界的调查研究[D].哈尔滨师范大学,2039</td>\n",
       "    </tr>\n",
       "    <tr>\n",
       "      <th>221</th>\n",
       "      <td>q370</td>\n",
       "      <td>亲子沟通不当是一方面的错误吗？</td>\n",
       "      <td>None</td>\n",
       "      <td>None</td>\n",
       "      <td>p222</td>\n",
       "      <td>家庭系统理论认为，亲子冲突是一个多人系统的问题，而不是父母或子女单方面的问题。亲子冲突的来源...</td>\n",
       "      <td>郭学东.疫情防控期间家庭亲子冲突成因及对策初探[J].教育实践与研究(C),2020(05)...</td>\n",
       "    </tr>\n",
       "    <tr>\n",
       "      <th>172</th>\n",
       "      <td>q287</td>\n",
       "      <td>家庭结构会对亲子沟通有影响吗？</td>\n",
       "      <td>q288</td>\n",
       "      <td>亲子沟通中家庭结构会带来不一样的沟通吗？</td>\n",
       "      <td>p173</td>\n",
       "      <td>家庭结构和亲子沟通质量密切相关。核心家庭比单亲家庭的亲子沟通质量要好（Sandy,1998）...</td>\n",
       "      <td>李玲. 初中生亲子沟通、成就动机及其团体辅导的研究 [D]. 西南大学. 2037</td>\n",
       "    </tr>\n",
       "    <tr>\n",
       "      <th>158</th>\n",
       "      <td>q259</td>\n",
       "      <td>学术上对于青春期的研究。</td>\n",
       "      <td>q260</td>\n",
       "      <td>青春期可能带来的困扰。</td>\n",
       "      <td>p159</td>\n",
       "      <td>青春期的孩子已不像儿童期那样对父母顺从、无话不谈，国外有学者称少年期为亲子关系的危机期。在这...</td>\n",
       "      <td>李玲. 初中生亲子沟通、成就动机及其团体辅导的研究 [D]. 西南大学. 2023</td>\n",
       "    </tr>\n",
       "    <tr>\n",
       "      <th>263</th>\n",
       "      <td>q412</td>\n",
       "      <td>用钱胁迫孩子是好的吗？</td>\n",
       "      <td>None</td>\n",
       "      <td>None</td>\n",
       "      <td>p264</td>\n",
       "      <td>我国作为农业大国，这种不分化的家庭结构受生存环境、资源缺乏等现实因素限制，因为并不富饶的生存...</td>\n",
       "      <td>葛虹宇. 高中生亲子心理边界的调查研究[D].哈尔滨师范大学,2055</td>\n",
       "    </tr>\n",
       "    <tr>\n",
       "      <th>2</th>\n",
       "      <td>q4</td>\n",
       "      <td>踢猫效应会带来什么连锁反应？</td>\n",
       "      <td>None</td>\n",
       "      <td>None</td>\n",
       "      <td>p3</td>\n",
       "      <td>假如这只猫对我们不重要，而且它选择了反抗，我们很有可能和它陷入战争。人踢了猫一下，猫也会扑上...</td>\n",
       "      <td>李秋生,王小文. 踢猫效应与情绪传递[J]. 大众心理学,2016(10):41-42.</td>\n",
       "    </tr>\n",
       "    <tr>\n",
       "      <th>9</th>\n",
       "      <td>q14</td>\n",
       "      <td>亲子沟通和孩子完美主义人格的关联</td>\n",
       "      <td>q15</td>\n",
       "      <td>孩子的完美主义是怎么产生的？</td>\n",
       "      <td>p10</td>\n",
       "      <td>研究发现许多成长因素都会或多或少的影响青少年的完美主义倾向，比如亲子沟通的方法、家庭环境、亲...</td>\n",
       "      <td>李晓飞. 初中生亲子沟通与社会适应的关系研究：完美主义和基本心理需要的中介作用[D].河北师...</td>\n",
       "    </tr>\n",
       "    <tr>\n",
       "      <th>116</th>\n",
       "      <td>q179</td>\n",
       "      <td>性别会影响青少年心理健康吗？</td>\n",
       "      <td>q180</td>\n",
       "      <td>男女生心理健康的差别有哪些？</td>\n",
       "      <td>p117</td>\n",
       "      <td>在抑郁、焦虑及心理不平衡方面存在显著的性别差异，女生在抑郁和焦虑水平上比男生要高，而男生表现...</td>\n",
       "      <td>王春惠. 初中生亲子冲突处理策略对心理健康的影响及干预研究[D].曲阜师范大学,2020.</td>\n",
       "    </tr>\n",
       "    <tr>\n",
       "      <th>251</th>\n",
       "      <td>q400</td>\n",
       "      <td>掌控家庭的感觉是怎么样的？</td>\n",
       "      <td>None</td>\n",
       "      <td>None</td>\n",
       "      <td>p252</td>\n",
       "      <td>父亲的边界是清晰而僵硬的，这种强硬不但在与儿子的互动中，同时也体现在与妻子的互动中。父亲掌控...</td>\n",
       "      <td>葛虹宇. 高中生亲子心理边界的调查研究[D].哈尔滨师范大学,2043</td>\n",
       "    </tr>\n",
       "    <tr>\n",
       "      <th>145</th>\n",
       "      <td>q233</td>\n",
       "      <td>父母为了改善亲子关系在行为方面有哪些正确的做法？</td>\n",
       "      <td>q234</td>\n",
       "      <td>父母为了改善亲子关系在行为方面该做些什么？</td>\n",
       "      <td>p146</td>\n",
       "      <td>学会倾听和“闭嘴”很多父母都不会倾听孩子，经常说教和唠叨。而孩子最讨厌的莫过于被唠叨，尤其是...</td>\n",
       "      <td>任彦霞. 三步搞定与青春期孩子的沟通难题[J]. 中小学心理健康教育. 2021 (22)</td>\n",
       "    </tr>\n",
       "    <tr>\n",
       "      <th>99</th>\n",
       "      <td>q151</td>\n",
       "      <td>改进和增进亲子关系的建议有哪些？</td>\n",
       "      <td>q152</td>\n",
       "      <td>怎样增进亲子关系？</td>\n",
       "      <td>p100</td>\n",
       "      <td>为母亲提供具有针对性的家庭教育教材和课程。母亲在家庭教育中占有重要地位，但是在调查问卷中，很...</td>\n",
       "      <td>不做焦虑父母，从良好亲子关系开始——疫情期间亲子关系状况调查报告[J].教育家,2021(2...</td>\n",
       "    </tr>\n",
       "    <tr>\n",
       "      <th>15</th>\n",
       "      <td>q23</td>\n",
       "      <td>性别会影响孩子与父母的沟通频率嘛</td>\n",
       "      <td>None</td>\n",
       "      <td>None</td>\n",
       "      <td>p16</td>\n",
       "      <td>在与父母的沟通中男孩子更加被动，相对来说，女孩子与父母的交流更多。我认为这种结果的产生可能和...</td>\n",
       "      <td>李维双. 亲子沟通对高中生心理健康的影响：情绪表达的中介作用[D].天津师范大学,2021.</td>\n",
       "    </tr>\n",
       "    <tr>\n",
       "      <th>79</th>\n",
       "      <td>q121</td>\n",
       "      <td>亲子沟通的概念是什么</td>\n",
       "      <td>q122</td>\n",
       "      <td>早起的亲子沟通概念</td>\n",
       "      <td>p80</td>\n",
       "      <td>Barnes（1985）最早提出亲子沟通的定义，他认为亲子沟通是指亲子之间通过沟通的途径来表...</td>\n",
       "      <td>姬莉. 青少年亲子沟通、自我控制与冒险行为的关系及教育对策[D].河南大学,2020.</td>\n",
       "    </tr>\n",
       "    <tr>\n",
       "      <th>178</th>\n",
       "      <td>q299</td>\n",
       "      <td>青少年的学业和成就动机有关吗？</td>\n",
       "      <td>q300</td>\n",
       "      <td>成就动机是如何影响青少年的学业的？</td>\n",
       "      <td>p179</td>\n",
       "      <td>成就动机对学业成绩影响显著，高成就动机者具有较好的学业成绩，低成就动机者学业成绩较低（刘志华...</td>\n",
       "      <td>李玲. 初中生亲子沟通、成就动机及其团体辅导的研究 [D]. 西南大学. 2043</td>\n",
       "    </tr>\n",
       "    <tr>\n",
       "      <th>34</th>\n",
       "      <td>q49</td>\n",
       "      <td>亲自沟通模式的种类2</td>\n",
       "      <td>None</td>\n",
       "      <td>None</td>\n",
       "      <td>p35</td>\n",
       "      <td>Mcleod和Chaffee认为亲子之间的沟通存在稳定的倾向和模式，并据此提出了划分亲子沟通...</td>\n",
       "      <td>魏美丹. 初中生亲子沟通与生活满意度的关系[D].福建师范大学,2019.</td>\n",
       "    </tr>\n",
       "    <tr>\n",
       "      <th>108</th>\n",
       "      <td>q167</td>\n",
       "      <td>什么是家庭功能？</td>\n",
       "      <td>q168</td>\n",
       "      <td>家庭功能的定义是什么？</td>\n",
       "      <td>p109</td>\n",
       "      <td>家庭功能是家庭系统中家庭成员之间情感联系、家庭规则、家庭沟通以及应对外部事件的有效性。家庭成...</td>\n",
       "      <td>胡悦. 亲子沟通与青少年健康成长[D].哈尔滨工程大学,2007.</td>\n",
       "    </tr>\n",
       "    <tr>\n",
       "      <th>187</th>\n",
       "      <td>q317</td>\n",
       "      <td>给学校用来提升亲子沟通质量的对策及建议（活动篇）</td>\n",
       "      <td>q318</td>\n",
       "      <td>给学校的建议去提升亲子沟通质量（活动篇）</td>\n",
       "      <td>p188</td>\n",
       "      <td>增加亲子活动，增进亲子感情。在游戏与活动中，亲子之间并不需要太多的语言就会让爱自然流动起来。...</td>\n",
       "      <td>李玲. 初中生亲子沟通、成就动机及其团体辅导的研究 [D]. 西南大学. 2052</td>\n",
       "    </tr>\n",
       "    <tr>\n",
       "      <th>120</th>\n",
       "      <td>q186</td>\n",
       "      <td>亲子信任危机的后果有哪些（挫折心理）</td>\n",
       "      <td>None</td>\n",
       "      <td>None</td>\n",
       "      <td>p121</td>\n",
       "      <td>由于亲子间信任的下降，亲子矛盾、亲自冲突随之愈演愈烈，青春期的孩子又处在建立自我同一性的关键...</td>\n",
       "      <td>冯小航.青春期亲子信任危机成因及对策[J].科技资讯,2021,19(13):252-256.</td>\n",
       "    </tr>\n",
       "    <tr>\n",
       "      <th>194</th>\n",
       "      <td>q331</td>\n",
       "      <td>为什么会导致不好的亲子沟通？</td>\n",
       "      <td>q332</td>\n",
       "      <td>什么原因会使亲子沟通变得不良好？</td>\n",
       "      <td>p195</td>\n",
       "      <td>沟通关注少，父母没时间沟通主客观因素的阻碍，会使亲子间沟通缺失。一方面，父母主观上没有意识到...</td>\n",
       "      <td>郭彦华. 家庭教育中的亲子沟通问题与反思 [J]. 婚姻家庭. 2021 (341)</td>\n",
       "    </tr>\n",
       "    <tr>\n",
       "      <th>202</th>\n",
       "      <td>q345</td>\n",
       "      <td>孩子缺乏沟通会引起哪些问题？</td>\n",
       "      <td>q346</td>\n",
       "      <td>孩子和我不沟通有问题吗？</td>\n",
       "      <td>p203</td>\n",
       "      <td>子女与父母发生不愉快的情况后，会出现愤怒、低落、压抑等负性情绪，没有良好的心理状态，即使和家...</td>\n",
       "      <td>马明洋.亲子沟通的技巧[J].心理与健康,2020(06):70-71.</td>\n",
       "    </tr>\n",
       "    <tr>\n",
       "      <th>261</th>\n",
       "      <td>q410</td>\n",
       "      <td>家长对性方面的指导缺乏的体现是怎么样的？</td>\n",
       "      <td>None</td>\n",
       "      <td>None</td>\n",
       "      <td>p262</td>\n",
       "      <td>，他们通过延迟孩子正常生理、心理需要的方式，去回避自己担心和焦虑的话题。而在调查中，笔者发现...</td>\n",
       "      <td>葛虹宇. 高中生亲子心理边界的调查研究[D].哈尔滨师范大学,2053</td>\n",
       "    </tr>\n",
       "    <tr>\n",
       "      <th>56</th>\n",
       "      <td>q88</td>\n",
       "      <td>离异对孩子的影响有哪些</td>\n",
       "      <td>None</td>\n",
       "      <td>None</td>\n",
       "      <td>p57</td>\n",
       "      <td>家庭结构缺失对女的教育成长影响，国内外学者研究侧重点有所不同。国内学者将研究重心放在离异对家...</td>\n",
       "      <td>张晓夕. 单亲家庭亲子沟通能力提升的小组工作干预研究[D].西北大学,2021.</td>\n",
       "    </tr>\n",
       "    <tr>\n",
       "      <th>60</th>\n",
       "      <td>q93</td>\n",
       "      <td>为什么单亲父母不能过度保护孩子</td>\n",
       "      <td>q94</td>\n",
       "      <td>单亲家长过度保护孩子的后果</td>\n",
       "      <td>p61</td>\n",
       "      <td>极度缺乏耐心与温暖的严厉教养方式则容易导致子女产生抑郁或躁郁心理疾病[2]。因此，家长情感不...</td>\n",
       "      <td>张晓夕. 单亲家庭亲子沟通能力提升的小组工作干预研究[D].西北大学,2021.</td>\n",
       "    </tr>\n",
       "    <tr>\n",
       "      <th>41</th>\n",
       "      <td>q61</td>\n",
       "      <td>亲子沟通对孩子坚韧人格的影响</td>\n",
       "      <td>q62</td>\n",
       "      <td>亲子沟通如何影响孩子的坚韧人格</td>\n",
       "      <td>p42</td>\n",
       "      <td>何洁（2014）的研究表明，大学生父母教养方式中的父亲情感温暖、母亲情感温暖两个维度和坚韧性...</td>\n",
       "      <td>魏美丹. 初中生亲子沟通与生活满意度的关系[D].福建师范大学,2019.</td>\n",
       "    </tr>\n",
       "    <tr>\n",
       "      <th>26</th>\n",
       "      <td>q38</td>\n",
       "      <td>家长应该如何培养孩子的独立习惯</td>\n",
       "      <td>None</td>\n",
       "      <td>None</td>\n",
       "      <td>p27</td>\n",
       "      <td>很多家长在教育孩子的过程中，一方面要求孩子对待学习和生活中的问题要自己想办法解决；另一方面却...</td>\n",
       "      <td>莫申杰. 亲子关系对初中生学习习惯的影响研究[D].湖南农业大学,2020.</td>\n",
       "    </tr>\n",
       "    <tr>\n",
       "      <th>127</th>\n",
       "      <td>q197</td>\n",
       "      <td>怎样能避免因为过激的情绪而做出的不正当行为？</td>\n",
       "      <td>q198</td>\n",
       "      <td>在过于激动的情绪下，如何让自己冷静下来，避免进一步矛盾严重化？</td>\n",
       "      <td>p128</td>\n",
       "      <td>说完以后，她的情绪逐渐平静下来。随后我告诉她，自己才是情绪的主人，一套叫“威廉姆斯生活技能训...</td>\n",
       "      <td>李曉娟. 非暴力溝通：架起親子溝通“彩虹橋”[N]. 健康報. 2021-06-01 (006).</td>\n",
       "    </tr>\n",
       "  </tbody>\n",
       "</table>\n",
       "</div>"
      ]
     },
     "metadata": {},
     "execution_count": 7
    }
   ],
   "metadata": {}
  },
  {
   "cell_type": "code",
   "execution_count": 8,
   "source": [
    "queries[\"q13\"]"
   ],
   "outputs": [
    {
     "output_type": "execute_result",
     "data": {
      "text/plain": [
       "'亲子关系会影响孩子适应社会的能力吗'"
      ]
     },
     "metadata": {},
     "execution_count": 8
    }
   ],
   "metadata": {}
  },
  {
   "cell_type": "code",
   "execution_count": 9,
   "source": [
    "citations[\"p111\"]"
   ],
   "outputs": [
    {
     "output_type": "execute_result",
     "data": {
      "text/plain": [
       "'胡悦. 亲子沟通与青少年健康成长[D].哈尔滨工程大学,2007.'"
      ]
     },
     "metadata": {},
     "execution_count": 9
    }
   ],
   "metadata": {}
  },
  {
   "cell_type": "code",
   "execution_count": 10,
   "source": [
    "len(es_df)"
   ],
   "outputs": [
    {
     "output_type": "execute_result",
     "data": {
      "text/plain": [
       "267"
      ]
     },
     "metadata": {},
     "execution_count": 10
    }
   ],
   "metadata": {}
  },
  {
   "cell_type": "code",
   "execution_count": 11,
   "source": [
    "len(passages)"
   ],
   "outputs": [
    {
     "output_type": "execute_result",
     "data": {
      "text/plain": [
       "267"
      ]
     },
     "metadata": {},
     "execution_count": 11
    }
   ],
   "metadata": {}
  },
  {
   "cell_type": "markdown",
   "source": [
    "# Dunk into elastic search"
   ],
   "metadata": {}
  },
  {
   "cell_type": "code",
   "execution_count": 12,
   "source": [
    "from datetime import datetime\n",
    "from elasticsearch import Elasticsearch\n",
    "from elasticsearch import helpers\n",
    "\n",
    "es = Elasticsearch()"
   ],
   "outputs": [],
   "metadata": {}
  },
  {
   "cell_type": "code",
   "execution_count": 13,
   "source": [
    "# clear index\n",
    "es.indices.delete(index='ctb-nlp-v1', ignore=[400, 404])\n",
    "\n",
    "# dump into elasticsearch\n",
    "temp_bulk_actions = []\n",
    "for index, row in es_df.iterrows():\n",
    "\taction = {\n",
    "\t\t\"_index\": \"ctb-nlp-v1\",\n",
    "\t\t\"_source\": {\n",
    "\t\t\t'qid': row['qid'], \n",
    "\t\t\t'query': row['query'], \n",
    "\t\t\t'alt_qid': row['alt_qid'], \n",
    "\t\t\t'alt_query': row['alt_query'], \n",
    "\t\t\t'pid': row['pid'], \n",
    "\t\t\t'passage': row['passage'], \n",
    "\t\t\t'citation': row['citation'],\n",
    "\t\t\t}\n",
    "\t\t}\n",
    "\ttemp_bulk_actions.append(action)\n",
    "\n",
    "helpers.bulk(es, temp_bulk_actions)"
   ],
   "outputs": [
    {
     "output_type": "stream",
     "name": "stderr",
     "text": [
      "/Users/leonlu-m1/opt/anaconda3/lib/python3.8/site-packages/elasticsearch/connection/base.py:209: ElasticsearchWarning: Elasticsearch built-in security features are not enabled. Without authentication, your cluster could be accessible to anyone. See https://www.elastic.co/guide/en/elasticsearch/reference/7.13/security-minimal-setup.html to enable security.\n",
      "  warnings.warn(message, category=ElasticsearchWarning)\n"
     ]
    },
    {
     "output_type": "execute_result",
     "data": {
      "text/plain": [
       "(267, [])"
      ]
     },
     "metadata": {},
     "execution_count": 13
    }
   ],
   "metadata": {}
  },
  {
   "cell_type": "code",
   "execution_count": 14,
   "source": [
    "# don't know what this does\n",
    "es.indices.refresh(index=\"ctb-nlp-v1\")"
   ],
   "outputs": [
    {
     "output_type": "execute_result",
     "data": {
      "text/plain": [
       "{'_shards': {'total': 2, 'successful': 1, 'failed': 0}}"
      ]
     },
     "metadata": {},
     "execution_count": 14
    }
   ],
   "metadata": {}
  },
  {
   "cell_type": "markdown",
   "source": [
    "# Now make training data\n",
    "\n",
    "it's not obvious how to generate a score label for query passage pairs... but what we can do is to generate a pseudo relevalence score using characteristics of the query and the passage.\n",
    "\n",
    "- Set default for relevant to be 0.8 and score of negative samples to 0.1\n",
    "- the relevent score shall be 0.65 + 0.30 tanh(0.1 relu(query length - 8)) + 0.05 ((1/512) relu(passage length - 200))\n",
    "- the irrelevant score shall be 0.22 - 0.10 tanh(0.1 relu(query length - 8)) - 0.03 ((1/512) relu(passage length - 200))"
   ],
   "metadata": {}
  },
  {
   "cell_type": "code",
   "execution_count": 15,
   "source": [
    "import math\n",
    "import random\n",
    "def relu(x):\n",
    "    return max([x, 0])"
   ],
   "outputs": [],
   "metadata": {}
  },
  {
   "cell_type": "code",
   "execution_count": 16,
   "source": [
    "def relevant_score(qid, pid):\n",
    "    query = queries[qid]\n",
    "    passage = passages[pid]\n",
    "    return 0.60 + (0.3 * math.tanh(0.1 * relu(len(query) - 8))) + (0.1 * (1/512.0) * relu(len(passage) - 200))\n",
    "relevant_score('q34', 'p230')"
   ],
   "outputs": [
    {
     "output_type": "execute_result",
     "data": {
      "text/plain": [
       "0.8284782467867294"
      ]
     },
     "metadata": {},
     "execution_count": 16
    }
   ],
   "metadata": {}
  },
  {
   "cell_type": "code",
   "execution_count": 57,
   "source": [
    "def irrelevant_score(qid, pid):\n",
    "    query = queries[qid]\n",
    "    passage = passages[pid]\n",
    "    return 0.22 - (0.1 * math.tanh(0.1 * relu(len(query) - 8))) - (0.03 * (1/512.0) * relu(len(passage) - 200))\n",
    "irrelevant_score('q34', 'p230')"
   ],
   "outputs": [
    {
     "output_type": "execute_result",
     "data": {
      "text/plain": [
       "0.14384058440442352"
      ]
     },
     "metadata": {},
     "execution_count": 57
    }
   ],
   "metadata": {}
  },
  {
   "cell_type": "code",
   "execution_count": 59,
   "source": [
    "# this is for storing training data\n",
    "training_queries = [] # ['This list contains the first column', 'With your sentences', 'You want your model to evaluate on']\n",
    "training_passages = [] # ['Sentences contains the other column', 'The evaluator matches sentences1[i] with sentences2[i]', 'Compute the cosine similarity and compares it to scores[i]']\n",
    "training_target_scores = [] #[0.3, 0.6, 0.2]\n",
    "num_neg_examples = 20 # num of negative examples per positive example"
   ],
   "outputs": [],
   "metadata": {}
  },
  {
   "cell_type": "code",
   "execution_count": 60,
   "source": [
    "for i, match in enumerate(matches):\n",
    "    matched_qid = match['qid']\n",
    "    matched_pid = match['pid']\n",
    "\n",
    "    # positive sample\n",
    "    score = relevant_score(matched_qid, matched_pid)\n",
    "    query = queries[matched_qid]\n",
    "    passage = passages[matched_pid]\n",
    "    training_queries.append(query)\n",
    "    training_passages.append(passage)\n",
    "    training_target_scores.append(score)\n",
    "    \n",
    "    # gen negative samples\n",
    "    for i in range(num_neg_examples):\n",
    "        valid = False\n",
    "        while valid == False: # generate until valid\n",
    "            random_pid = random.sample(list(passages), 1)[0]\n",
    "            if passages[random_pid] != passage: # if the passage is the same as the target passage\n",
    "                valid = True\n",
    "        neg_score = irrelevant_score(qid, random_pid)\n",
    "        training_queries.append(query)\n",
    "        training_passages.append(passages[random_pid])\n",
    "        training_target_scores.append(neg_score)\n"
   ],
   "outputs": [],
   "metadata": {}
  },
  {
   "cell_type": "code",
   "execution_count": 61,
   "source": [
    "training_df = pd.DataFrame()"
   ],
   "outputs": [],
   "metadata": {}
  },
  {
   "cell_type": "code",
   "execution_count": 62,
   "source": [
    "training_df['training_queries'] = training_queries\n",
    "training_df['training_passages'] = training_passages\n",
    "training_df['training_target_scores'] = training_target_scores"
   ],
   "outputs": [],
   "metadata": {}
  },
  {
   "cell_type": "code",
   "execution_count": 65,
   "source": [
    "len(training_df)"
   ],
   "outputs": [
    {
     "output_type": "execute_result",
     "data": {
      "text/plain": [
       "8715"
      ]
     },
     "metadata": {},
     "execution_count": 65
    }
   ],
   "metadata": {}
  },
  {
   "cell_type": "code",
   "execution_count": 67,
   "source": [
    "training_df.to_csv('sentencetransformer training.tsv', sep='\\t')"
   ],
   "outputs": [],
   "metadata": {}
  },
  {
   "cell_type": "code",
   "execution_count": null,
   "source": [],
   "outputs": [],
   "metadata": {}
  }
 ],
 "metadata": {
  "orig_nbformat": 4,
  "language_info": {
   "name": "python",
   "version": "3.8.8",
   "mimetype": "text/x-python",
   "codemirror_mode": {
    "name": "ipython",
    "version": 3
   },
   "pygments_lexer": "ipython3",
   "nbconvert_exporter": "python",
   "file_extension": ".py"
  },
  "kernelspec": {
   "name": "python3",
   "display_name": "Python 3.8.8 64-bit ('base': conda)"
  },
  "interpreter": {
   "hash": "4b554b9bc7a45af9cb7affa56da8832edb06301fe4a315ecc0fd56b47822af07"
  }
 },
 "nbformat": 4,
 "nbformat_minor": 2
}