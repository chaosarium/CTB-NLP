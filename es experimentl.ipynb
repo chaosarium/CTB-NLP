{
 "cells": [
  {
   "cell_type": "code",
   "execution_count": 1,
   "source": [
    "from elasticsearch import Elasticsearch\n",
    "from elasticsearch_dsl import Search\n",
    "from elasticsearch_dsl import Q\n",
    "es_client = Elasticsearch()\n",
    "from pprint import pprint"
   ],
   "outputs": [],
   "metadata": {}
  },
  {
   "cell_type": "code",
   "execution_count": 2,
   "source": [
    "# this is the search result object\n",
    "from app import search_results_data"
   ],
   "outputs": [],
   "metadata": {}
  },
  {
   "cell_type": "code",
   "execution_count": 3,
   "source": [
    "# we will use elasticsearch-dsl this time; a higher level python es client\n",
    "# !pip install elasticsearch-dsl"
   ],
   "outputs": [],
   "metadata": {}
  },
  {
   "cell_type": "code",
   "execution_count": 17,
   "source": [
    "def es_search(query, cutoff = 1000, index=\"msmacro-full\", fields = [\"passage\", \"query\"]):\n",
    "    q = Q({\"multi_match\": {\"query\": query, \"fields\": fields}})\n",
    "\n",
    "    s = Search(using=es_client, index=index).query(q)\n",
    "\n",
    "    s.update_from_dict({\"size\": cutoff})\n",
    "\n",
    "    response = s.execute()\n",
    "    response_dict = response.to_dict()\n",
    "    hits = response_dict['hits']['hits']\n",
    "    result_count = len(hits)\n",
    "    return result_count, hits"
   ],
   "outputs": [],
   "metadata": {}
  },
  {
   "cell_type": "code",
   "execution_count": 18,
   "source": [
    "result_count, hits = es_search(\"what is python\", cutoff = 3, index=\"msmacro-full\")"
   ],
   "outputs": [
    {
     "output_type": "stream",
     "name": "stderr",
     "text": [
      "/Users/leonlu-m1/miniforge3/lib/python3.9/site-packages/elasticsearch/connection/base.py:208: ElasticsearchWarning: Elasticsearch built-in security features are not enabled. Without authentication, your cluster could be accessible to anyone. See https://www.elastic.co/guide/en/elasticsearch/reference/7.13/security-minimal-setup.html to enable security.\n",
      "  warnings.warn(message, category=ElasticsearchWarning)\n"
     ]
    }
   ],
   "metadata": {}
  },
  {
   "cell_type": "code",
   "execution_count": 19,
   "source": [
    "pprint(hits[0])"
   ],
   "outputs": [
    {
     "output_type": "stream",
     "name": "stdout",
     "text": [
      "{'_id': 'hW5H-HoBVnrKUyODw7l4',\n",
      " '_index': 'msmacro-full',\n",
      " '_score': 18.307333,\n",
      " '_source': {'passage': 'What is the Python Software Foundation?¶. The Python '\n",
      "                        'Software Foundation is an independent non-profit '\n",
      "                        'organization that holds the copyright on Python '\n",
      "                        'versions 2.1 and newer. The PSF’s mission is to '\n",
      "                        'advance open source technology related to the Python '\n",
      "                        'programming language and to publicize the use of '\n",
      "                        'Python.',\n",
      "             'pid': 2713990,\n",
      "             'qid': 267012,\n",
      "             'query': 'how long should i wait to handle my ball python after '\n",
      "                      'feeding'},\n",
      " '_type': '_doc'}\n"
     ]
    }
   ],
   "metadata": {}
  },
  {
   "cell_type": "code",
   "execution_count": 20,
   "source": [
    "def direct_es_search_result(search_session_id, query_input, hits):\n",
    "    '''\n",
    "    this parses the search result and returns the search results object\n",
    "    '''\n",
    "    ranks, qids, pids, query_labels, passages, scores = [], [], [], [], [], []\n",
    "\n",
    "    for index, hit in enumerate(hits):\n",
    "        ranks.append(index + 1)\n",
    "        qids.append(hit['_source']['qid'])\n",
    "        pids.append(hit['_source']['pid'])\n",
    "        query_labels.append(hit['_source']['query'])\n",
    "        passages.append(hit['_source']['passage'])\n",
    "        scores.append(hit['_score'])\n",
    "    \n",
    "    result = search_results_data(\n",
    "        search_session_id = search_session_id,\n",
    "        query_input = query_input,\n",
    "        ranks = ranks, \n",
    "        qids = qids, \n",
    "        pids = pids, \n",
    "        query_labels = query_labels, \n",
    "        passages = passages, \n",
    "        scores = scores\n",
    "    )\n",
    "\n",
    "    return result\n"
   ],
   "outputs": [],
   "metadata": {}
  },
  {
   "cell_type": "code",
   "execution_count": 21,
   "source": [
    "temp = direct_es_search_result(25234, \"aksjdf\", hits)"
   ],
   "outputs": [],
   "metadata": {}
  },
  {
   "cell_type": "code",
   "execution_count": 22,
   "source": [
    "pprint(temp.search_session_id)\n",
    "pprint(temp.query_input)\n",
    "pprint(temp.table)"
   ],
   "outputs": [
    {
     "output_type": "stream",
     "name": "stdout",
     "text": [
      "25234\n",
      "'aksjdf'\n",
      "[{'passage': 'What is the Python Software Foundation?¶. The Python Software '\n",
      "             'Foundation is an independent non-profit organization that holds '\n",
      "             'the copyright on Python versions 2.1 and newer. The PSF’s '\n",
      "             'mission is to advance open source technology related to the '\n",
      "             'Python programming language and to publicize the use of Python.',\n",
      "  'pid': 2713990,\n",
      "  'qid': 267012,\n",
      "  'query_label': 'how long should i wait to handle my ball python after '\n",
      "                 'feeding',\n",
      "  'rank': 1,\n",
      "  'score': 18.307333},\n",
      " {'passage': 'Python Glob. The module glob (in Python) is what you want to be '\n",
      "             'using if you are trying to use wildcards with Python. '\n",
      "             'glob.glob(). In case you need to learn or review about wildcards '\n",
      "             '(in Mac OS X): koldfyre’s tutorial.And here is the official site '\n",
      "             'with slightly complicated explanations.he module glob (in '\n",
      "             'Python) is what you want to be using if you are trying to use '\n",
      "             'wildcards with Python.',\n",
      "  'pid': 2984470,\n",
      "  'qid': 267012,\n",
      "  'query_label': 'how long should i wait to handle my ball python after '\n",
      "                 'feeding',\n",
      "  'rank': 2,\n",
      "  'score': 18.170263},\n",
      " {'passage': 'The thing is in many Python tutorials for beginners this word is '\n",
      "             'used in such way as if the beginner already knew what a method '\n",
      "             'is in the context of Python. While I am of course familiar with '\n",
      "             'the general meaning of this word, I have no clue what this term '\n",
      "             'means in Python.',\n",
      "  'pid': 4447026,\n",
      "  'qid': 267012,\n",
      "  'query_label': 'how long should i wait to handle my ball python after '\n",
      "                 'feeding',\n",
      "  'rank': 3,\n",
      "  'score': 17.38026}]\n"
     ]
    }
   ],
   "metadata": {}
  },
  {
   "cell_type": "code",
   "execution_count": null,
   "source": [],
   "outputs": [],
   "metadata": {}
  },
  {
   "cell_type": "markdown",
   "source": [
    "# some experiment on efaqa-70"
   ],
   "metadata": {}
  },
  {
   "cell_type": "code",
   "execution_count": 26,
   "source": [
    "result_count, hits = es_search(\"你\", cutoff = 1000, index=\"efaqa-70\", fields = [\"pseudo_passage\", \"pseudo_query\"])\n",
    "result_count"
   ],
   "outputs": [
    {
     "output_type": "execute_result",
     "data": {
      "text/plain": [
       "1000"
      ]
     },
     "metadata": {},
     "execution_count": 26
    }
   ],
   "metadata": {}
  },
  {
   "cell_type": "code",
   "execution_count": 27,
   "source": [
    "pprint(hits[0])"
   ],
   "outputs": [
    {
     "output_type": "stream",
     "name": "stdout",
     "text": [
      "{'_id': 'MoDx1HsBVPLpt6nxIGK3',\n",
      " '_index': 'efaqa-70',\n",
      " '_score': 3.4125881,\n",
      " '_source': {'pseudo_passage': '您的观点似乎有些 '\n",
      "                               \"''硬''的感觉人贵有自知的能力，找到一个爱自己的，同时自己也爱他的，两全其美只有学会爱自己，才会真正爱别人！一个真正爱自己的人，别人才会爱她，她也才会真实的爱别人你需要心理成长，爱让你投入到忘我，这本身也是不成熟的表现。正所谓君子有所为，有所不为。如果你想成长自己，更成熟一些，可以和我咨询婚姻里如何权衡好爱人与被爱的关系并不容易。把握好亲密关系不是一味的付出或者索取得到的。面对家庭婚姻和孩子，如何成为积极面对生活的人，一切问题就都不会是问题。专业婚恋咨询可以关注我，希望帮能解除困扰。\",\n",
      "             'pseudo_query': '爱你的人无论怎样都会帮你，为你付出，而你爱的人往往是背叛你的人。当你爱一个人很深时，你会发现已经失去自我，迷失方向，当那个人深深伤你，丢下你，你才会发现你的爱是多么的卑微，原来在那一方的爱根本不存在，于是你陷入自责，自伤，你寻求帮助，寻求安慰，可是你却发现只有自己可以相信有时候还是自我一些好吧现在的生活让我出现了恐慌，也对婚姻生活出现了不信任，不知道该让自己如何走。如果没有孩子我会选择离婚，恢复到原来的自己，好好让自己生活',\n",
      "             'short_query': '爱你的人无论怎样都会帮你，为你付出，而你爱的人往往是背叛你的人。'},\n",
      " '_type': '_doc'}\n"
     ]
    }
   ],
   "metadata": {}
  },
  {
   "cell_type": "code",
   "execution_count": null,
   "source": [],
   "outputs": [],
   "metadata": {}
  }
 ],
 "metadata": {
  "orig_nbformat": 4,
  "language_info": {
   "name": "python",
   "version": "3.9.4",
   "mimetype": "text/x-python",
   "codemirror_mode": {
    "name": "ipython",
    "version": 3
   },
   "pygments_lexer": "ipython3",
   "nbconvert_exporter": "python",
   "file_extension": ".py"
  },
  "kernelspec": {
   "name": "python3",
   "display_name": "Python 3.9.4 64-bit (conda)"
  },
  "interpreter": {
   "hash": "6ba0698d2a258f2c680ae93d669c48ab0a62ccd0be271b27f368cebf9e295fa5"
  }
 },
 "nbformat": 4,
 "nbformat_minor": 2
}