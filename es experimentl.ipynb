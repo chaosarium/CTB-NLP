{
 "cells": [
  {
   "cell_type": "code",
   "execution_count": 18,
   "source": [
    "from elasticsearch import Elasticsearch\n",
    "from elasticsearch_dsl import Search\n",
    "from elasticsearch_dsl import Q\n",
    "es_client = Elasticsearch()\n",
    "from pprint import pprint"
   ],
   "outputs": [],
   "metadata": {}
  },
  {
   "cell_type": "code",
   "execution_count": 12,
   "source": [
    "# this is the search result object\n",
    "from app import search_results_data"
   ],
   "outputs": [],
   "metadata": {}
  },
  {
   "cell_type": "code",
   "execution_count": 13,
   "source": [
    "# we will use elasticsearch-dsl this time; a higher level python es client\n",
    "# !pip install elasticsearch-dsl"
   ],
   "outputs": [],
   "metadata": {}
  },
  {
   "cell_type": "code",
   "execution_count": 14,
   "source": [
    "def es_search(query, cutoff = 1000, index=\"msmacro-full\", fields = [\"passage\", \"query\"]):\n",
    "    q = Q({\"multi_match\": {\"query\": query, \"fields\": fields}})\n",
    "\n",
    "    s = Search(using=es_client, index=index).query(q)\n",
    "\n",
    "    s.update_from_dict({\"size\": cutoff})\n",
    "\n",
    "    response = s.execute()\n",
    "    response_dict = response.to_dict()\n",
    "    hits = response_dict['hits']['hits']\n",
    "    result_count = len(hits)\n",
    "    return result_count, hits"
   ],
   "outputs": [],
   "metadata": {}
  },
  {
   "cell_type": "code",
   "execution_count": 45,
   "source": [
    "result_count, hits = es_search(\"what is python\", cutoff = 3, index=\"msmacro-full\")"
   ],
   "outputs": [
    {
     "output_type": "stream",
     "name": "stderr",
     "text": [
      "/Users/leonlu-m1/miniforge3/lib/python3.9/site-packages/elasticsearch/connection/base.py:208: ElasticsearchWarning: Elasticsearch built-in security features are not enabled. Without authentication, your cluster could be accessible to anyone. See https://www.elastic.co/guide/en/elasticsearch/reference/7.13/security-minimal-setup.html to enable security.\n",
      "  warnings.warn(message, category=ElasticsearchWarning)\n"
     ]
    }
   ],
   "metadata": {}
  },
  {
   "cell_type": "code",
   "execution_count": 46,
   "source": [
    "pprint(hits[0])"
   ],
   "outputs": [
    {
     "output_type": "stream",
     "name": "stdout",
     "text": [
      "{'_id': 'hW5H-HoBVnrKUyODw7l4',\n",
      " '_index': 'msmacro-full',\n",
      " '_score': 18.307333,\n",
      " '_source': {'passage': 'What is the Python Software Foundation?¶. The Python '\n",
      "                        'Software Foundation is an independent non-profit '\n",
      "                        'organization that holds the copyright on Python '\n",
      "                        'versions 2.1 and newer. The PSF’s mission is to '\n",
      "                        'advance open source technology related to the Python '\n",
      "                        'programming language and to publicize the use of '\n",
      "                        'Python.',\n",
      "             'pid': 2713990,\n",
      "             'qid': 267012,\n",
      "             'query': 'how long should i wait to handle my ball python after '\n",
      "                      'feeding'},\n",
      " '_type': '_doc'}\n"
     ]
    }
   ],
   "metadata": {}
  },
  {
   "cell_type": "code",
   "execution_count": 53,
   "source": [
    "def direct_es_search_result(search_session_id, query_input, hits):\n",
    "    '''\n",
    "    this parses the search result and returns the search results object\n",
    "    '''\n",
    "    ranks, qids, pids, query_labels, passages, scores = [], [], [], [], [], []\n",
    "\n",
    "    for index, hit in enumerate(hits):\n",
    "        ranks.append(index + 1)\n",
    "        qids.append(hit['_source']['qid'])\n",
    "        pids.append(hit['_source']['pid'])\n",
    "        query_labels.append(hit['_source']['query'])\n",
    "        passages.append(hit['_source']['passage'])\n",
    "        scores.append(hit['_score'])\n",
    "    \n",
    "    result = search_results_data(\n",
    "        search_session_id = search_session_id,\n",
    "        query_input = query_input,\n",
    "        ranks = ranks, \n",
    "        qids = qids, \n",
    "        pids = pids, \n",
    "        query_labels = query_labels, \n",
    "        passages = passages, \n",
    "        scores = scores\n",
    "    )\n",
    "\n",
    "    return result\n"
   ],
   "outputs": [],
   "metadata": {}
  },
  {
   "cell_type": "code",
   "execution_count": 57,
   "source": [
    "temp = direct_es_search_result(25234, \"aksjdf\", hits)"
   ],
   "outputs": [],
   "metadata": {}
  },
  {
   "cell_type": "code",
   "execution_count": 58,
   "source": [
    "pprint(temp.search_session_id)\n",
    "pprint(temp.query_input)\n",
    "pprint(temp.table)"
   ],
   "outputs": [
    {
     "output_type": "stream",
     "name": "stdout",
     "text": [
      "25234\n",
      "'aksjdf'\n",
      "[{'passage': 'What is the Python Software Foundation?¶. The Python Software '\n",
      "             'Foundation is an independent non-profit organization that holds '\n",
      "             'the copyright on Python versions 2.1 and newer. The PSF’s '\n",
      "             'mission is to advance open source technology related to the '\n",
      "             'Python programming language and to publicize the use of Python.',\n",
      "  'pid': 2713990,\n",
      "  'qid': 267012,\n",
      "  'query_label': 'how long should i wait to handle my ball python after '\n",
      "                 'feeding',\n",
      "  'rank': 1,\n",
      "  'score': 18.307333},\n",
      " {'passage': 'Python Glob. The module glob (in Python) is what you want to be '\n",
      "             'using if you are trying to use wildcards with Python. '\n",
      "             'glob.glob(). In case you need to learn or review about wildcards '\n",
      "             '(in Mac OS X): koldfyre’s tutorial.And here is the official site '\n",
      "             'with slightly complicated explanations.he module glob (in '\n",
      "             'Python) is what you want to be using if you are trying to use '\n",
      "             'wildcards with Python.',\n",
      "  'pid': 2984470,\n",
      "  'qid': 267012,\n",
      "  'query_label': 'how long should i wait to handle my ball python after '\n",
      "                 'feeding',\n",
      "  'rank': 2,\n",
      "  'score': 18.170263},\n",
      " {'passage': 'The thing is in many Python tutorials for beginners this word is '\n",
      "             'used in such way as if the beginner already knew what a method '\n",
      "             'is in the context of Python. While I am of course familiar with '\n",
      "             'the general meaning of this word, I have no clue what this term '\n",
      "             'means in Python.',\n",
      "  'pid': 4447026,\n",
      "  'qid': 267012,\n",
      "  'query_label': 'how long should i wait to handle my ball python after '\n",
      "                 'feeding',\n",
      "  'rank': 3,\n",
      "  'score': 17.38026}]\n"
     ]
    }
   ],
   "metadata": {}
  },
  {
   "cell_type": "code",
   "execution_count": null,
   "source": [],
   "outputs": [],
   "metadata": {}
  }
 ],
 "metadata": {
  "orig_nbformat": 4,
  "language_info": {
   "name": "python",
   "version": "3.9.4",
   "mimetype": "text/x-python",
   "codemirror_mode": {
    "name": "ipython",
    "version": 3
   },
   "pygments_lexer": "ipython3",
   "nbconvert_exporter": "python",
   "file_extension": ".py"
  },
  "kernelspec": {
   "name": "python3",
   "display_name": "Python 3.9.4 64-bit (conda)"
  },
  "interpreter": {
   "hash": "6ba0698d2a258f2c680ae93d669c48ab0a62ccd0be271b27f368cebf9e295fa5"
  }
 },
 "nbformat": 4,
 "nbformat_minor": 2
}