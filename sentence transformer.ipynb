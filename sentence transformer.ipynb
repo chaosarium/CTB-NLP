{
 "cells": [
  {
   "cell_type": "markdown",
   "source": [
    "# Try sentence transformer?"
   ],
   "metadata": {}
  },
  {
   "cell_type": "code",
   "execution_count": 14,
   "source": [
    "from sentence_transformers import SentenceTransformer\n",
    "from pprint import pprint\n",
    "import torch\n",
    "from sentence_transformers import util"
   ],
   "outputs": [],
   "metadata": {}
  },
  {
   "cell_type": "code",
   "execution_count": 15,
   "source": [
    "if torch.cuda.is_available():\n",
    "    DEVICE = torch.device(\"cuda:0\")  \n",
    "    print(\"Running on the GPU\")\n",
    "else:\n",
    "    DEVICE = torch.device(\"cpu\")\n",
    "    print(\"Running on the CPU\")"
   ],
   "outputs": [
    {
     "output_type": "stream",
     "name": "stdout",
     "text": [
      "Running on the CPU\n"
     ]
    }
   ],
   "metadata": {}
  },
  {
   "cell_type": "code",
   "execution_count": 16,
   "source": [
    "sentence_transformer_model_v2 = SentenceTransformer('paraphrase-multilingual-mpnet-base-v2', device=DEVICE)"
   ],
   "outputs": [],
   "metadata": {}
  },
  {
   "cell_type": "code",
   "execution_count": 17,
   "source": [
    "sentences = ['This framework generates embeddings for each input sentence',\n",
    "    'Sentences are passed as a list of string.',\n",
    "    'The quick brown fox jumps over the lazy dog.',\n",
    "    'Le renard brun et rapide saute par-dessus le chien paresseux.',\n",
    "    '敏捷的棕色狐狸跳过懒惰的狗',\n",
    "    'London is the best place on earth.',\n",
    "    'I love London.']"
   ],
   "outputs": [],
   "metadata": {}
  },
  {
   "cell_type": "code",
   "execution_count": 18,
   "source": [
    "sentence_embeddings = sentence_transformer_model_v2.encode(sentences)"
   ],
   "outputs": [],
   "metadata": {}
  },
  {
   "cell_type": "code",
   "execution_count": 19,
   "source": [
    "sentence_embeddings.shape"
   ],
   "outputs": [
    {
     "output_type": "execute_result",
     "data": {
      "text/plain": [
       "(7, 768)"
      ]
     },
     "metadata": {},
     "execution_count": 19
    }
   ],
   "metadata": {}
  },
  {
   "cell_type": "code",
   "execution_count": 20,
   "source": [
    "print('sentences: ', sentences[0], '\\n', sentences[4])\n",
    "print('dot similarity: ', util.dot_score(sentence_embeddings[0], sentence_embeddings[4]))\n",
    "print('cos similarity: ', util.pytorch_cos_sim(sentence_embeddings[0], sentence_embeddings[4]))\n",
    "\n",
    "print('sentences: ', sentences[2], '\\n', sentences[4])\n",
    "print('dot similarity: ', util.dot_score(sentence_embeddings[2], sentence_embeddings[4]))\n",
    "print('cos similarity: ', util.pytorch_cos_sim(sentence_embeddings[2], sentence_embeddings[4]))\n",
    "\n",
    "print('sentences: ', sentences[3], '\\n', sentences[4])\n",
    "print('dot similarity: ', util.dot_score(sentence_embeddings[3], sentence_embeddings[4]))\n",
    "print('cos similarity: ', util.pytorch_cos_sim(sentence_embeddings[3], sentence_embeddings[4]))\n",
    "\n",
    "print('sentences: ', sentences[5], '\\n', sentences[6])\n",
    "print('dot similarity: ', util.dot_score(sentence_embeddings[5], sentence_embeddings[6]))\n",
    "print('cos similarity: ', util.pytorch_cos_sim(sentence_embeddings[5], sentence_embeddings[6]))"
   ],
   "outputs": [
    {
     "output_type": "stream",
     "name": "stdout",
     "text": [
      "sentences:  This framework generates embeddings for each input sentence \n",
      " 敏捷的棕色狐狸跳过懒惰的狗\n",
      "dot similarity:  tensor([[0.5263]])\n",
      "cos similarity:  tensor([[0.0797]])\n",
      "sentences:  The quick brown fox jumps over the lazy dog. \n",
      " 敏捷的棕色狐狸跳过懒惰的狗\n",
      "dot similarity:  tensor([[6.1115]])\n",
      "cos similarity:  tensor([[0.9069]])\n",
      "sentences:  Le renard brun et rapide saute par-dessus le chien paresseux. \n",
      " 敏捷的棕色狐狸跳过懒惰的狗\n",
      "dot similarity:  tensor([[5.9588]])\n",
      "cos similarity:  tensor([[0.9261]])\n",
      "sentences:  London is the best place on earth. \n",
      " I love London.\n",
      "dot similarity:  tensor([[8.4054]])\n",
      "cos similarity:  tensor([[0.7646]])\n"
     ]
    }
   ],
   "metadata": {}
  },
  {
   "cell_type": "markdown",
   "source": [
    "# okay now get some passages out of ES to test this"
   ],
   "metadata": {}
  },
  {
   "cell_type": "code",
   "execution_count": 10,
   "source": [
    "test_query = '班上同学欠钱不还怎么办'\n",
    "INDEX = \"efaqa-70\" # index to search e.g. \"msmacro-full\"\n",
    "FIELDS = [\"passage\"] # fields to search e.g. [\"passage\", \"query\"]"
   ],
   "outputs": [],
   "metadata": {}
  },
  {
   "cell_type": "code",
   "execution_count": 11,
   "source": [
    "from es_helper import *"
   ],
   "outputs": [
    {
     "output_type": "stream",
     "name": "stdout",
     "text": [
      "Running on the CPU\n"
     ]
    }
   ],
   "metadata": {}
  },
  {
   "cell_type": "code",
   "execution_count": 12,
   "source": [
    "result_count, es_hits = es_search(test_query, cutoff = 10, index=INDEX, fields = FIELDS)\n",
    "es_results = direct_es_search_result('dummy', test_query, es_hits)"
   ],
   "outputs": [
    {
     "output_type": "stream",
     "name": "stderr",
     "text": [
      "/Users/leonlu-m1/opt/anaconda3/lib/python3.8/site-packages/elasticsearch/connection/base.py:209: ElasticsearchWarning: Elasticsearch built-in security features are not enabled. Without authentication, your cluster could be accessible to anyone. See https://www.elastic.co/guide/en/elasticsearch/reference/7.13/security-minimal-setup.html to enable security.\n",
      "  warnings.warn(message, category=ElasticsearchWarning)\n"
     ]
    }
   ],
   "metadata": {}
  },
  {
   "cell_type": "code",
   "execution_count": 13,
   "source": [
    "def rerank(es_results):\n",
    "    '''\n",
    "    gets a result table, reranks it, and returns a reranked result table\n",
    "    '''\n",
    "    passages = [hit['passage'] for hit in es_results.table]\n",
    "    queries = [es_results.query_input]\n",
    "    query_embeddings = sentence_transformer_model_v2.encode(queries, convert_to_tensor=True)\n",
    "    sentence_embeddings = sentence_transformer_model_v2.encode(passages, convert_to_tensor=True)\n",
    "\n",
    "    sentence_embeddings = sentence_embeddings.to(DEVICE)\n",
    "    sentence_embeddings = util.normalize_embeddings(sentence_embeddings)\n",
    "\n",
    "    query_embeddings = query_embeddings.to(DEVICE)\n",
    "    query_embeddings = util.normalize_embeddings(query_embeddings)\n",
    "\n",
    "    reranked_ranking = util.semantic_search(query_embeddings, sentence_embeddings, score_function=util.dot_score)\n",
    "\n",
    "    reranked_table = []\n",
    "    for index, entry_at_rank in enumerate(reranked_ranking[0]):\n",
    "        corpus_id = entry_at_rank['corpus_id']\n",
    "        entry = es_results.table[corpus_id]\n",
    "        entry['score'] = entry_at_rank['score']\n",
    "        entry['rank'] = index\n",
    "\n",
    "        reranked_table.append(entry)\n",
    "    es_results.table = reranked_table\n",
    "    \n",
    "    return es_results\n",
    "        \n",
    "es_results = rerank(es_results)"
   ],
   "outputs": [],
   "metadata": {}
  },
  {
   "cell_type": "code",
   "execution_count": 16,
   "source": [
    "es_results.table"
   ],
   "outputs": [
    {
     "output_type": "execute_result",
     "data": {
      "text/plain": [
       "[{'rank': 0,\n",
       "  'qid': 'q156',\n",
       "  'pid': 'p156',\n",
       "  'query_label': '我现在已经无法面对接下来的生活了，现在欠了一屁股债，每天都有债主追债，已经无能为力了，我想在近期结束自己。',\n",
       "  'passage': '能够理解你现在无能为力的痛苦，但比欠债更可怕的是放弃生命，欠债可以还，放弃生命就再无回头的可能。你连死都不怕了，还有什么无法面对？专业咨询请关注我，希望陪你面对困难，看到解决问题的可能其实我不建议你自杀，因为逃债而寻死，是一种极不负责任的逃避行为。人活在世上，要不愧天，不愧地，不愧自己。你还不到30岁，你可以拿10年，20年来还债，当然你会过的很辛苦，但，债还清的那一刻，你又是一个挺起腰的顶天立地的男人。你也可以选择自私的死亡，留家人为你还债。一切在你的选择。建议你和家人坐下来好好沟通一下。如果你欠了很多钱，还没跟你提离婚，愿意和你一起还钱的人，我相信她还是爱你的。或许只是有些恨铁不成钢，女人有时候很爱抱怨，但，她为了爱的人可以变得很坚强。加油吧！',\n",
       "  'score': 0.5227701663970947},\n",
       " {'rank': 1,\n",
       "  'qid': 'q963',\n",
       "  'pid': 'p963',\n",
       "  'query_label': '代朋友问，别人跟我朋友借了1万元写了欠条，对方不想还否认赖账。怎么办',\n",
       "  'passage': '如果是起诉了法院调解让对方在两月内还清，对方说他不想还，他说会告诉法院他没工作没钱，法院会拿他没办法最多他进去监狱呆一阵子。他说告法院能怎么样他就是不想还钱',\n",
       "  'score': 0.520677387714386},\n",
       " {'rank': 2,\n",
       "  'qid': 'q1510',\n",
       "  'pid': 'p1510',\n",
       "  'query_label': '就是懒，好懒，不想懒，怎么办，很长时间了19岁',\n",
       "  'passage': '刚开始我觉得特别苦，我想我那时候都快崩溃了，就不想上学了，可我自己心里不甘心，我不想自己以后过下等生活，不想为了几个小钱去看尽人的脸色，结果我就逼着自己学啊学，五个月后，我成了班里的中好生，觉得也就那么一回事我常吓唬自己说你爸妈老了，万一他们生病了，你没本事你没钱，你爸妈该咋办，生了我还没让他们享福呢，我的等大了带他们出去玩玩，我的以后让我妈在亲戚面前很骄傲的说我女儿给我长气了',\n",
       "  'score': 0.5194514989852905},\n",
       " {'rank': 3,\n",
       "  'qid': 'q755',\n",
       "  'pid': 'p755',\n",
       "  'query_label': '15岁因为盗窃被抓进派出所影响当兵吗？？？？',\n",
       "  'passage': '我想咨询一下啊！小孩出生。父母未达到年龄至今小孩现五岁多了，还没上户口，计生办，公安局，政务部，都不给上户口，说一定要罚最少1万多块钱才能上户口！可我知道，现在国家规定不罚款，我又没生第二胎，这样情况，我应该怎么办？现在小孩要上学了，急死了，麻烦专家律师帮帮我！谢谢了',\n",
       "  'score': 0.43945515155792236},\n",
       " {'rank': 4,\n",
       "  'qid': 'q2307',\n",
       "  'pid': 'p2307',\n",
       "  'query_label': '16岁,中考前焦虑症，紧张到失眠，没动力，很惆怅。离中考还有6天',\n",
       "  'passage': '可以做考前心理辅导对这件事情不太有把握。我女儿也马上面临中考，情况比她还糟糕，晚上睡不着，早上起不来，开始逃课。非常担心她继续如此会不会不参加考试？我们已经开导她，不管考得如何，只要她尽力，都不会怪她。但她的情绪变化太大，今天自己对我说一定抓紧好好学习，明天早上怎么说也不去上学。晚上新鲜总不睡，早上总说要睡觉，我该怎么办？以前除非生病不上学，从不逃课的，就是最近一两周出现的，作为家长该怎么做？怎么开通她呢？急求指点？',\n",
       "  'score': 0.4183686375617981},\n",
       " {'rank': 5,\n",
       "  'qid': 'q1301',\n",
       "  'pid': 'p1301',\n",
       "  'query_label': '我和我男朋友他见我爸妈了我也叫他父母了。就是双方父母还没碰面。怕他们不同意咋办阿',\n",
       "  'passage': '我在外地谈了个男朋友，可是我家人不同意还要30万这怎么可能呢，他们那边最高的才三万多，我爸很厉害我要是回去了给我爸说了我肯定被打死的，我怎么办我男朋友很爱很爱我，他都想过离家出走可他爸妈怎么办养了他22年说离开就离开吗，我很害怕我爸，过年回去说我怕说不同，没人帮我我怎么办呀。唉，，，，',\n",
       "  'score': 0.4106036424636841},\n",
       " {'rank': 6,\n",
       "  'qid': 'q1963',\n",
       "  'pid': 'p1963',\n",
       "  'query_label': '在学校会很烦躁 课不想听 饭不想吃 只想玩 画画 也没有人给我压力 也没有成绩压力 经常烦躁 无缘无故 自己发泄 有时还会伤害自己 迁怒别人',\n",
       "  'passage': '我和老婆在一起8年了，儿子3岁，最近真的好累呀，这8年我一直睡沙发，老婆说我打呼，影响她睡觉，她工作也很累，家里的事基本上我在操持，我的收入全部交给她，除了基本生活开销！我的收入还可以，老婆不信任我，说我偷偷藏钱，这钱那是藏啊，有的时候是客户打的公款，老婆也给转走，反正不信任我了！我真的好累，不知道怎么办了？！',\n",
       "  'score': 0.24994617700576782},\n",
       " {'rank': 7,\n",
       "  'qid': 'q2612',\n",
       "  'pid': 'p2612',\n",
       "  'query_label': '我性别男，年龄16  感觉初三的时候就有点同性恋的倾向， 我感觉我现在喜欢男的，而不喜欢女的，看男的有时会勃起，而女生没反应，请问我该怎么办？我们怎才能走出同性恋的倾向？',\n",
       "  'passage': '建议你去医院先检查一下从生物学的原因找找原因建议进行正式咨询。第一，确定是否同性恋。第二，如果是，该怎么办。男\\\\n我性别男，年龄17,感觉高中的时候就有点同性恋的倾向，\\\\n我感觉我现在喜欢男的，不是太喜欢女的，看到帅哥时会忍不住多看两眼和帅气的男生说话会心跳加速脸红，而女生没反应，请问我该怎么办？我们怎才能走出同性恋的倾向？',\n",
       "  'score': 0.21326562762260437},\n",
       " {'rank': 8,\n",
       "  'qid': 'q2532',\n",
       "  'pid': 'p2532',\n",
       "  'query_label': '我是一个已婚男人，车房这些都没有因为我才26可是我却爱上了一个男人还和他发生关系医生我该怎么办我还久久不能忘怀和他在床上的激情',\n",
       "  'passage': '是就是了，一般认为同性恋是不可逆的，做好准备和家人交待“男,我是一个已婚男人，车房这些都没有，因为我才26，可是我却爱上了一个男人还和他发生关系。医生我该怎么办我还久久不能忘怀和他在床上的激情”这一段话里充满了矛盾！对，困扰本身是有矛盾，不能不允许别人说嘛',\n",
       "  'score': 0.2054905742406845},\n",
       " {'rank': 9,\n",
       "  'qid': 'q1086',\n",
       "  'pid': 'p1086',\n",
       "  'query_label': '我老公不见我，不跟我联系，又不亲口跟我说离婚，他这到底是怎么想的',\n",
       "  'passage': '女,我跟老公是相亲认识的，从认识到现在就一年半的时间，现在宝宝快半岁了，我们先前一直感情很好，就是生完孩子后，他上班应酬多了，每天都很晚回家，还喝很多酒，我就特别不高兴，但是我没有说他，只是不跟他说话，上个月我在他手机里发现了他跟别的女人聊些暧昧的话，还跟他见面了，我就大吵了一架说要离婚，后来我冷静后又不想跟他离，我还爱他，而且宝宝还那么小，但是现在他想离，说不可能在跟我过下去了，我不知道该怎么办，他现在好像在外面租好房子了，他也一直躲着不见我打电话，发短信，都不回。把我的qq，微信都删了，公公婆',\n",
       "  'score': 0.13778868317604065}]"
      ]
     },
     "metadata": {},
     "execution_count": 16
    }
   ],
   "metadata": {}
  },
  {
   "cell_type": "markdown",
   "source": [
    "# Now fine tune the sentence transformer approach"
   ],
   "metadata": {}
  },
  {
   "cell_type": "code",
   "execution_count": 34,
   "source": [
    "from sentence_transformers import SentenceTransformer, InputExample, losses, evaluation\n",
    "from torch.utils.data import DataLoader\n",
    "import pandas as pd"
   ],
   "outputs": [],
   "metadata": {}
  },
  {
   "cell_type": "code",
   "execution_count": 35,
   "source": [
    "training_df = pd.read_csv('sentencetransformer training.tsv', sep='\\t')"
   ],
   "outputs": [],
   "metadata": {}
  },
  {
   "cell_type": "code",
   "execution_count": 36,
   "source": [
    "# turn that into train examples as in:\n",
    "# train_examples = [InputExample(texts=['My first sentence', 'My second sentence'], label=0.8), InputExample(texts=['Another pair', 'Unrelated sentence'], label=0.3)]\n",
    "\n",
    "training_examples = []\n",
    "\n",
    "for row in training_df.iterrows():\n",
    "    training_query = row[1]['training_queries']\n",
    "    training_passage = row[1]['training_passages']\n",
    "    training_target_score = row[1]['training_target_scores']\n",
    "    training_examples.append(\n",
    "        InputExample(texts=[training_query, training_passage], label=training_target_score)\n",
    "    )\n",
    "    # print(training_query, training_passage, training_target_score)"
   ],
   "outputs": [],
   "metadata": {}
  },
  {
   "cell_type": "code",
   "execution_count": 37,
   "source": [
    "#Define your train dataset, the dataloader and the train loss\n",
    "train_dataloader = DataLoader(training_examples, shuffle=True, batch_size=16)\n",
    "train_loss = losses.CosineSimilarityLoss(sentence_transformer_model_v2)"
   ],
   "outputs": [],
   "metadata": {}
  },
  {
   "cell_type": "code",
   "execution_count": 38,
   "source": [
    "#  evaluate it (?) (evaluate on train data (?)) (sample 300 (?))\n",
    "\n",
    "sampled_eval_data = training_df.sample(300)\n",
    "\n",
    "eval_queries = sampled_eval_data['training_queries'].to_list()\n",
    "eval_passages = sampled_eval_data['training_passages'].to_list()\n",
    "eval_scores = sampled_eval_data['training_target_scores'].to_list()\n",
    "\n",
    "evaluator = evaluation.EmbeddingSimilarityEvaluator(eval_queries, eval_passages, eval_scores)"
   ],
   "outputs": [],
   "metadata": {}
  },
  {
   "cell_type": "code",
   "execution_count": 39,
   "source": [
    "#Tune the sentence_transformer_model_v2\n",
    "sentence_transformer_model_v2.fit(train_objectives=[(train_dataloader, train_loss)], epochs=10, warmup_steps=100, evaluator=evaluator, evaluation_steps=100)"
   ],
   "outputs": [
    {
     "output_type": "stream",
     "name": "stderr",
     "text": [
      "Epoch:   0%|          | 0/10 [00:00<?, ?it/s]"
     ]
    }
   ],
   "metadata": {}
  }
 ],
 "metadata": {
  "orig_nbformat": 4,
  "language_info": {
   "name": "python",
   "version": "3.8.8",
   "mimetype": "text/x-python",
   "codemirror_mode": {
    "name": "ipython",
    "version": 3
   },
   "pygments_lexer": "ipython3",
   "nbconvert_exporter": "python",
   "file_extension": ".py"
  },
  "kernelspec": {
   "name": "python3",
   "display_name": "Python 3.8.8 64-bit ('base': conda)"
  },
  "interpreter": {
   "hash": "4b554b9bc7a45af9cb7affa56da8832edb06301fe4a315ecc0fd56b47822af07"
  }
 },
 "nbformat": 4,
 "nbformat_minor": 2
}