{
 "cells": [
  {
   "cell_type": "code",
   "execution_count": 28,
   "source": [
    "import pandas as pd\n",
    "\n",
    "SEARCH_LOG_FILE_PATH = \"logs/resultsLog.tsv\"\n",
    "USER_LOG_FILE_PATH = \"logs/userActionLog.tsv\"\n",
    "SEARCH_LOG_FILE = pd.read_csv(SEARCH_LOG_FILE_PATH, sep='\\t')\n",
    "USER_LOG_FILE = pd.read_csv(USER_LOG_FILE_PATH, sep='\\t')\n",
    "\n",
    "def write_search_log():\n",
    "    with open(SEARCH_LOG_FILE_PATH,'w') as write_tsv:\n",
    "        write_tsv.write(SEARCH_LOG_FILE.to_csv(sep='\\t', index=False))\n",
    "\n",
    "def write_user_log():\n",
    "    with open(USER_LOG_FILE_PATH,'w') as write_tsv:\n",
    "        write_tsv.write(USER_LOG_FILE.to_csv(sep='\\t', index=False))\n",
    "\n",
    "def get_new_session_id():\n",
    "    return SEARCH_LOG_FILE.iloc[-1, 0] + 1"
   ],
   "outputs": [],
   "metadata": {}
  },
  {
   "cell_type": "code",
   "execution_count": 29,
   "source": [
    "get_new_session_id()"
   ],
   "outputs": [
    {
     "output_type": "execute_result",
     "data": {
      "text/plain": [
       "3"
      ]
     },
     "metadata": {},
     "execution_count": 29
    }
   ],
   "metadata": {}
  },
  {
   "cell_type": "code",
   "execution_count": 30,
   "source": [
    "# this is the class for the thing returned to the front end\n",
    "class search_results_data:\n",
    "    def __init__(self, search_session_id, query_input, ranks, qids, pids, query_labels, passages, scores):\n",
    "        \"\"\"\n",
    "        search_session_id - intiger, unique for each search session\n",
    "        query_input - string, the query\n",
    "        all of the below should be of the same length and in order\n",
    "        ranks - list of ranks\n",
    "        qids - list of qids\n",
    "        pids - list of pids\n",
    "        query_labels - list of label queries\n",
    "        passages - list of passages\n",
    "        scores - list of scores from search matching\n",
    "        \"\"\"\n",
    "        assert len(ranks)==len(qids)==len(pids)==len(query_labels)==len(passages)==len(scores)\n",
    "        table = []\n",
    "        for i, rank in enumerate(ranks):\n",
    "            table.append({\n",
    "                \"rank\": ranks[i],\n",
    "                \"qid\": qids[i],\n",
    "                \"pid\": pids[i],\n",
    "                \"query_label\": query_labels[i],\n",
    "                \"passage\": passages[i],\n",
    "                \"score\": scores[i],\n",
    "            })\n",
    "        self.search_session_id = search_session_id\n",
    "        self.query_input = query_input\n",
    "        self.table = table\n",
    "\n",
    "dummy_result = search_results_data(\n",
    "        search_session_id = 29,\n",
    "        query_input = \"alksjdflj\",\n",
    "        ranks = [1,2,3], \n",
    "        qids = [123, 324, 348], \n",
    "        pids = [15324, 124, 642], \n",
    "        query_labels = [\"柯南国语版全集\", \"柯南\", \"违章查询\"], \n",
    "        passages = [\"名侦探柯南 国语版-动漫动画-全集高清正版视频在线观看-爱奇艺\", \"名侦探柯南国语版全集(国语) 名侦探柯南国语版动漫全集 在线观看 - 哈哈动漫网\", \"名侦探柯南(国语)-名侦探柯南(国语)全集(1-837共1000集)-动画片 - 搜狐视频\"], \n",
    "        scores = [0.231, 0.123, 0.095]\n",
    "    )"
   ],
   "outputs": [],
   "metadata": {}
  },
  {
   "cell_type": "code",
   "execution_count": 37,
   "source": [
    "def update_search_log(result_object):\n",
    "    global SEARCH_LOG_FILE\n",
    "    # The useful things are:\n",
    "    # result_object.search_session_id\n",
    "    # result_object.query_input\n",
    "    # result_object.table\n",
    "    for item in result_object.table:\n",
    "        SEARCH_LOG_FILE = SEARCH_LOG_FILE.append({\"search_session_id\": result_object.search_session_id, \"query\": result_object.query_input, \"rank\": item[\"rank\"], \"qid\": item[\"pid\"], \"pid\": item[\"pid\"], \"score\": item[\"score\"]} , ignore_index=True)\n",
    "    write_search_log()\n",
    "    \n",
    "update_search_log(dummy_result)"
   ],
   "outputs": [
    {
     "output_type": "stream",
     "name": "stdout",
     "text": [
      "{'rank': 1, 'qid': 123, 'pid': 15324, 'query_label': '柯南国语版全集', 'passage': '名侦探柯南 国语版-动漫动画-全集高清正版视频在线观看-爱奇艺', 'score': 0.231}\n",
      "{'rank': 2, 'qid': 324, 'pid': 124, 'query_label': '柯南', 'passage': '名侦探柯南国语版全集(国语) 名侦探柯南国语版动漫全集 在线观看 - 哈哈动漫网', 'score': 0.123}\n",
      "{'rank': 3, 'qid': 348, 'pid': 642, 'query_label': '违章查询', 'passage': '名侦探柯南(国语)-名侦探柯南(国语)全集(1-837共1000集)-动画片 - 搜狐视频', 'score': 0.095}\n"
     ]
    }
   ],
   "metadata": {}
  },
  {
   "cell_type": "code",
   "execution_count": 39,
   "source": [
    "def update_user_log(sessionID, actionType, pid, rank):\n",
    "    global USER_LOG_FILE\n",
    "    USER_LOG_FILE = USER_LOG_FILE.append({\"search_session_id\": sessionID, \"action_type\": actionType, \"pid\": pid, \"rank\": rank} , ignore_index=True)\n",
    "    write_user_log()\n",
    "    \n",
    "update_user_log(123, \"upvote\", 234, 1)"
   ],
   "outputs": [],
   "metadata": {}
  }
 ],
 "metadata": {
  "orig_nbformat": 4,
  "language_info": {
   "name": "python",
   "version": "3.9.4",
   "mimetype": "text/x-python",
   "codemirror_mode": {
    "name": "ipython",
    "version": 3
   },
   "pygments_lexer": "ipython3",
   "nbconvert_exporter": "python",
   "file_extension": ".py"
  },
  "kernelspec": {
   "name": "python3",
   "display_name": "Python 3.9.4 64-bit (conda)"
  },
  "interpreter": {
   "hash": "6ba0698d2a258f2c680ae93d669c48ab0a62ccd0be271b27f368cebf9e295fa5"
  }
 },
 "nbformat": 4,
 "nbformat_minor": 2
}